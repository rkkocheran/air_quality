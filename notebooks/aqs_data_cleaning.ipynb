{
 "cells": [
  {
   "cell_type": "markdown",
   "id": "ce186b71",
   "metadata": {},
   "source": [
    "### AQS Data Exploration"
   ]
  },
  {
   "cell_type": "code",
   "execution_count": 1,
   "id": "c06eef7f",
   "metadata": {},
   "outputs": [],
   "source": [
    "import pandas as pd\n",
    "import pandasql as ps\n",
    "import numpy as np\n",
    "from datetime import datetime "
   ]
  },
  {
   "cell_type": "code",
   "execution_count": 2,
   "id": "0262ccc6",
   "metadata": {},
   "outputs": [],
   "source": [
    "aqs_df = pd.read_csv('../data/aqs_data.csv')"
   ]
  },
  {
   "cell_type": "code",
   "execution_count": 3,
   "id": "d3b8ee83",
   "metadata": {},
   "outputs": [],
   "source": [
    "aqi_bp = pd.read_csv('../data/aqi_breakpoints.csv')\n",
    "aqi_bp.columns = aqi_bp.columns.str.lower().str.replace(' ', '_')\n",
    "aqi_bp = aqi_bp.loc[aqi_bp.aqi_category != 'NONE']"
   ]
  },
  {
   "cell_type": "code",
   "execution_count": 4,
   "id": "c9ba1dd9",
   "metadata": {},
   "outputs": [],
   "source": [
    "aqi_bp = aqi_bp.loc[aqi_bp.aqi_category != 'NONE']"
   ]
  },
  {
   "cell_type": "markdown",
   "id": "a5e03492",
   "metadata": {},
   "source": [
    "#### Declare the Static Variables"
   ]
  },
  {
   "cell_type": "code",
   "execution_count": 5,
   "id": "18041725",
   "metadata": {},
   "outputs": [],
   "source": [
    "# Associated Cities and Counties\n",
    "city_county_dict = {'Los Angeles': 'Los Angeles',\n",
    "                    'San Diego': 'San Diego',\n",
    "                    'Denver': 'Denver',\n",
    "                    'Davidson': 'Nashville',\n",
    "                    'Fulton, DeKalb': 'Atlanta'}"
   ]
  },
  {
   "cell_type": "markdown",
   "id": "4647be6d",
   "metadata": {},
   "source": [
    "#### Give More Concise Names to Relevant Fields"
   ]
  },
  {
   "cell_type": "code",
   "execution_count": 6,
   "id": "4adcfc3f",
   "metadata": {},
   "outputs": [],
   "source": [
    "aqs_df = aqs_df.rename(columns={'units_of_measure':'measure_units',\n",
    "                                'first_max_value':'max_value1',\n",
    "                                'first_max_datetime':'max_month1', \n",
    "                                'second_max_value':'max_value2', \n",
    "                                'second_max_datetime':'max_month2',\n",
    "                                'third_max_value':'max_value3', \n",
    "                                'third_max_datetime':'max_month3', \n",
    "                                'fourth_max_value':'max_value4', \n",
    "                                'fourth_max_datetime':'max_month4',\n",
    "                                'ninety_ninth_percentile':'percentile99',\n",
    "                                'ninety_fifth_percentile':'percentile95',\n",
    "                                'ninetieth_percentile':'percentile90',\n",
    "                                'seventy_fifth_percentile':'percentile75',\n",
    "                                'sample_duration_code':'duration_code'\n",
    "                               })"
   ]
  },
  {
   "cell_type": "markdown",
   "id": "7a923546",
   "metadata": {},
   "source": [
    "#### Create a Calculated Field for the Average of the Four Max Measurement Values"
   ]
  },
  {
   "cell_type": "code",
   "execution_count": 7,
   "id": "e3eb633c",
   "metadata": {},
   "outputs": [],
   "source": [
    "aqs_df['avg_max_value'] = [round(np.mean([row.max_value1, row.max_value2, row.max_value3, row.max_value4]), 1) for ind, row in aqs_df.iterrows()]"
   ]
  },
  {
   "cell_type": "markdown",
   "id": "5f5a68dd",
   "metadata": {},
   "source": [
    "##### ##### Classify Measurement Percentile???"
   ]
  },
  {
   "cell_type": "markdown",
   "id": "787c570c",
   "metadata": {},
   "source": [
    "#### Relabel Params"
   ]
  },
  {
   "cell_type": "code",
   "execution_count": 8,
   "id": "bfe2bbc4",
   "metadata": {},
   "outputs": [
    {
     "data": {
      "text/plain": [
       "PM2.5 - Local Conditions                  718\n",
       "Ozone                                     380\n",
       "Nitrogen dioxide (NO2)                    202\n",
       "Nitric oxide (NO)                         155\n",
       "Acceptable PM2.5 AQI & Speciation Mass    155\n",
       "Sulfur dioxide                            149\n",
       "Carbon monoxide                           140\n",
       "PM10 Total 0-10um STP                     123\n",
       "Benzene                                    75\n",
       "Name: parameter, dtype: int64"
      ]
     },
     "execution_count": 8,
     "metadata": {},
     "output_type": "execute_result"
    }
   ],
   "source": [
    "aqs_df.parameter.value_counts()"
   ]
  },
  {
   "cell_type": "markdown",
   "id": "7ae34f6d",
   "metadata": {},
   "source": [
    "#### Relabel Atlanta's Counties as a Joint County"
   ]
  },
  {
   "cell_type": "code",
   "execution_count": 9,
   "id": "fadc26d4",
   "metadata": {},
   "outputs": [],
   "source": [
    "aqs_df['county'] = ['Fulton, DeKalb' if row.state == 'Georgia' else row.county for index, row in aqs_df.iterrows()]"
   ]
  },
  {
   "cell_type": "markdown",
   "id": "355efd0d",
   "metadata": {},
   "source": [
    "#### Add Associated Cities (for potential merging purposes)"
   ]
  },
  {
   "cell_type": "code",
   "execution_count": 10,
   "id": "13f48d0e",
   "metadata": {},
   "outputs": [],
   "source": [
    "aqs_df['assoc_city'] = [city_county_dict[row.county] for index, row in aqs_df.iterrows()]"
   ]
  },
  {
   "cell_type": "markdown",
   "id": "283b5558",
   "metadata": {},
   "source": [
    "#### Subset for Parameters with Data in All Four States"
   ]
  },
  {
   "cell_type": "code",
   "execution_count": 11,
   "id": "de8d776b",
   "metadata": {},
   "outputs": [],
   "source": [
    "state_counts = pd.DataFrame(aqs_df.groupby(['parameter_code','state']).state.count())\n",
    "state_counts = state_counts.rename(columns={'state':'count'}).reset_index()"
   ]
  },
  {
   "cell_type": "code",
   "execution_count": 12,
   "id": "a233d279",
   "metadata": {
    "scrolled": true
   },
   "outputs": [
    {
     "data": {
      "text/plain": [
       "[42101, 42401, 42601, 42602, 44201, 81102, 88101, 88502]"
      ]
     },
     "execution_count": 12,
     "metadata": {},
     "output_type": "execute_result"
    }
   ],
   "source": [
    "aqs_params = state_counts.groupby('parameter_code').state.count()\n",
    "valid_params = list(aqs_params[aqs_params.values == 4].index)\n",
    "aqs_df = aqs_df.loc[aqs_df.parameter_code.isin(valid_params)]\n",
    "valid_params"
   ]
  },
  {
   "cell_type": "markdown",
   "id": "f92fb330",
   "metadata": {},
   "source": [
    "#### Extract the Month from the Date Fields"
   ]
  },
  {
   "cell_type": "code",
   "execution_count": 13,
   "id": "bbc920f7",
   "metadata": {},
   "outputs": [
    {
     "data": {
      "text/html": [
       "<div>\n",
       "<style scoped>\n",
       "    .dataframe tbody tr th:only-of-type {\n",
       "        vertical-align: middle;\n",
       "    }\n",
       "\n",
       "    .dataframe tbody tr th {\n",
       "        vertical-align: top;\n",
       "    }\n",
       "\n",
       "    .dataframe thead th {\n",
       "        text-align: right;\n",
       "    }\n",
       "</style>\n",
       "<table border=\"1\" class=\"dataframe\">\n",
       "  <thead>\n",
       "    <tr style=\"text-align: right;\">\n",
       "      <th></th>\n",
       "      <th>state_code</th>\n",
       "      <th>county_code</th>\n",
       "      <th>site_number</th>\n",
       "      <th>parameter_code</th>\n",
       "      <th>poc</th>\n",
       "      <th>latitude</th>\n",
       "      <th>longitude</th>\n",
       "      <th>datum</th>\n",
       "      <th>parameter</th>\n",
       "      <th>duration_code</th>\n",
       "      <th>...</th>\n",
       "      <th>local_site_name</th>\n",
       "      <th>site_address</th>\n",
       "      <th>state</th>\n",
       "      <th>county</th>\n",
       "      <th>city</th>\n",
       "      <th>cbsa_code</th>\n",
       "      <th>cbsa</th>\n",
       "      <th>date_of_last_change</th>\n",
       "      <th>avg_max_value</th>\n",
       "      <th>assoc_city</th>\n",
       "    </tr>\n",
       "  </thead>\n",
       "  <tbody>\n",
       "    <tr>\n",
       "      <th>0</th>\n",
       "      <td>6</td>\n",
       "      <td>37</td>\n",
       "      <td>6012</td>\n",
       "      <td>42101</td>\n",
       "      <td>1</td>\n",
       "      <td>34.38344</td>\n",
       "      <td>-118.5284</td>\n",
       "      <td>WGS84</td>\n",
       "      <td>Carbon monoxide</td>\n",
       "      <td>1</td>\n",
       "      <td>...</td>\n",
       "      <td>Santa Clarita</td>\n",
       "      <td>22224 PLACERITA CANYON RD, SANTA CLARITA</td>\n",
       "      <td>California</td>\n",
       "      <td>Los Angeles</td>\n",
       "      <td>Santa Clarita</td>\n",
       "      <td>31080</td>\n",
       "      <td>Los Angeles-Long Beach-Anaheim, CA</td>\n",
       "      <td>2021-11-08</td>\n",
       "      <td>1.2</td>\n",
       "      <td>Los Angeles</td>\n",
       "    </tr>\n",
       "  </tbody>\n",
       "</table>\n",
       "<p>1 rows × 58 columns</p>\n",
       "</div>"
      ],
      "text/plain": [
       "   state_code  county_code  site_number  parameter_code  poc  latitude  \\\n",
       "0           6           37         6012           42101    1  34.38344   \n",
       "\n",
       "   longitude  datum        parameter duration_code  ... local_site_name  \\\n",
       "0  -118.5284  WGS84  Carbon monoxide             1  ...   Santa Clarita   \n",
       "\n",
       "                               site_address       state       county  \\\n",
       "0  22224 PLACERITA CANYON RD, SANTA CLARITA  California  Los Angeles   \n",
       "\n",
       "            city cbsa_code                                cbsa  \\\n",
       "0  Santa Clarita     31080  Los Angeles-Long Beach-Anaheim, CA   \n",
       "\n",
       "   date_of_last_change  avg_max_value   assoc_city  \n",
       "0           2021-11-08            1.2  Los Angeles  \n",
       "\n",
       "[1 rows x 58 columns]"
      ]
     },
     "execution_count": 13,
     "metadata": {},
     "output_type": "execute_result"
    }
   ],
   "source": [
    "pd.set_option('mode.chained_assignment', None)\n",
    "cols = ['max_month1', 'max_month2', 'max_month3', 'max_month4']\n",
    "for col in cols:\n",
    "    aqs_df[col] = pd.to_datetime(aqs_df[col]).dt.month\n",
    "aqs_df.head(1)"
   ]
  },
  {
   "cell_type": "markdown",
   "id": "040efeda",
   "metadata": {},
   "source": [
    "#### Subset for and Reorder Relevant Fields"
   ]
  },
  {
   "cell_type": "code",
   "execution_count": 14,
   "id": "2b10cc53",
   "metadata": {},
   "outputs": [],
   "source": [
    "aqs_df = aqs_df[['parameter', 'year', 'state', 'assoc_city', 'county',\n",
    "                 'measure_units', 'avg_max_value',\n",
    "                 'max_month1', 'max_value1', 'max_month2', 'max_value2', \n",
    "                 'max_month3', 'max_value3', 'max_month4', 'max_value4', \n",
    "                 'percentile99', 'percentile95', 'percentile90', 'percentile75', \n",
    "                 'parameter_code', 'duration_code', 'sample_duration',\n",
    "                 'latitude', 'longitude']]"
   ]
  },
  {
   "cell_type": "code",
   "execution_count": 15,
   "id": "56816c0b",
   "metadata": {
    "scrolled": true
   },
   "outputs": [
    {
     "data": {
      "text/plain": [
       "parameter_code  measure_units                \n",
       "42101           Parts per million                140\n",
       "42401           Parts per billion                149\n",
       "42601           Parts per billion                155\n",
       "42602           Parts per billion                202\n",
       "44201           Parts per million                380\n",
       "81102           Micrograms/cubic meter (25 C)    123\n",
       "88101           Micrograms/cubic meter (LC)      718\n",
       "88502           Micrograms/cubic meter (LC)      155\n",
       "Name: parameter, dtype: int64"
      ]
     },
     "execution_count": 15,
     "metadata": {},
     "output_type": "execute_result"
    }
   ],
   "source": [
    "aqs_df.groupby(['parameter_code', 'measure_units']).parameter.count()"
   ]
  },
  {
   "cell_type": "markdown",
   "id": "26352830",
   "metadata": {
    "scrolled": true
   },
   "source": [
    "# NOTE: 300 Records are 'NOT VALID'\n",
    "# CAN FILTER ON THIS WHEN USING MORE YEARS\n",
    "aqs_df.validity_indicator.value_counts()"
   ]
  },
  {
   "cell_type": "code",
   "execution_count": 16,
   "id": "bf021dee",
   "metadata": {},
   "outputs": [],
   "source": [
    "aqs_df.to_csv('../data/aqs_data_cleaned.csv', index=False)"
   ]
  },
  {
   "cell_type": "code",
   "execution_count": 17,
   "id": "c81a0100",
   "metadata": {},
   "outputs": [
    {
     "data": {
      "text/plain": [
       "(2022, 24)"
      ]
     },
     "execution_count": 17,
     "metadata": {},
     "output_type": "execute_result"
    }
   ],
   "source": [
    "aqs_df.shape"
   ]
  },
  {
   "cell_type": "markdown",
   "id": "382a16da",
   "metadata": {},
   "source": [
    "#### Merge the AQI Category Data with the Filtered Parameter Data"
   ]
  },
  {
   "cell_type": "code",
   "execution_count": 18,
   "id": "de0553a0",
   "metadata": {},
   "outputs": [
    {
     "name": "stdout",
     "output_type": "stream",
     "text": [
      "<class 'pandas.core.frame.DataFrame'>\n",
      "Int64Index: 2022 entries, 0 to 2096\n",
      "Data columns (total 24 columns):\n",
      " #   Column           Non-Null Count  Dtype  \n",
      "---  ------           --------------  -----  \n",
      " 0   parameter        2022 non-null   object \n",
      " 1   year             2022 non-null   int64  \n",
      " 2   state            2022 non-null   object \n",
      " 3   assoc_city       2022 non-null   object \n",
      " 4   county           2022 non-null   object \n",
      " 5   measure_units    2022 non-null   object \n",
      " 6   avg_max_value    2022 non-null   float64\n",
      " 7   max_month1       2022 non-null   int64  \n",
      " 8   max_value1       2022 non-null   float64\n",
      " 9   max_month2       2022 non-null   int64  \n",
      " 10  max_value2       2022 non-null   float64\n",
      " 11  max_month3       2022 non-null   int64  \n",
      " 12  max_value3       2022 non-null   float64\n",
      " 13  max_month4       2022 non-null   int64  \n",
      " 14  max_value4       2022 non-null   float64\n",
      " 15  percentile99     2022 non-null   float64\n",
      " 16  percentile95     2022 non-null   float64\n",
      " 17  percentile90     2022 non-null   float64\n",
      " 18  percentile75     2022 non-null   float64\n",
      " 19  parameter_code   2022 non-null   int64  \n",
      " 20  duration_code    2022 non-null   object \n",
      " 21  sample_duration  2022 non-null   object \n",
      " 22  latitude         2022 non-null   float64\n",
      " 23  longitude        2022 non-null   float64\n",
      "dtypes: float64(11), int64(6), object(7)\n",
      "memory usage: 394.9+ KB\n"
     ]
    }
   ],
   "source": [
    "aqs_df.info()"
   ]
  },
  {
   "cell_type": "code",
   "execution_count": 19,
   "id": "5a4daeb8",
   "metadata": {},
   "outputs": [
    {
     "data": {
      "text/plain": [
       "array(['Acceptable PM2.5 AQI & Speciation Mass', 'Carbon monoxide',\n",
       "       'Nitrogen dioxide (NO2)', 'Ozone', 'PM10 Total 0-10um STP',\n",
       "       'PM2.5 - Local Conditions', 'Sulfur dioxide'], dtype=object)"
      ]
     },
     "execution_count": 19,
     "metadata": {},
     "output_type": "execute_result"
    }
   ],
   "source": [
    "aqi_bp.parameter.unique()"
   ]
  },
  {
   "cell_type": "code",
   "execution_count": 20,
   "id": "9463a4a0",
   "metadata": {},
   "outputs": [
    {
     "data": {
      "text/plain": [
       "array(['Carbon monoxide', 'Sulfur dioxide', 'Nitric oxide (NO)',\n",
       "       'Nitrogen dioxide (NO2)', 'Ozone', 'PM10 Total 0-10um STP',\n",
       "       'PM2.5 - Local Conditions',\n",
       "       'Acceptable PM2.5 AQI & Speciation Mass'], dtype=object)"
      ]
     },
     "execution_count": 20,
     "metadata": {},
     "output_type": "execute_result"
    }
   ],
   "source": [
    "aqs_df.parameter.unique()"
   ]
  },
  {
   "cell_type": "code",
   "execution_count": 21,
   "id": "cb42e705",
   "metadata": {},
   "outputs": [
    {
     "data": {
      "text/plain": [
       "['Acceptable PM2.5 AQI & Speciation Mass',\n",
       " 'Carbon monoxide',\n",
       " 'Nitrogen dioxide (NO2)',\n",
       " 'Ozone',\n",
       " 'PM10 Total 0-10um STP',\n",
       " 'PM2.5 - Local Conditions',\n",
       " 'Sulfur dioxide']"
      ]
     },
     "execution_count": 21,
     "metadata": {},
     "output_type": "execute_result"
    }
   ],
   "source": [
    "aqi_params = list(aqi_bp.parameter.unique())\n",
    "aqi_params"
   ]
  },
  {
   "cell_type": "code",
   "execution_count": 22,
   "id": "9018a7f4",
   "metadata": {},
   "outputs": [
    {
     "data": {
      "text/plain": [
       "['Carbon monoxide',\n",
       " 'Sulfur dioxide',\n",
       " 'Nitric oxide (NO)',\n",
       " 'Nitrogen dioxide (NO2)',\n",
       " 'Ozone',\n",
       " 'PM10 Total 0-10um STP',\n",
       " 'PM2.5 - Local Conditions',\n",
       " 'Acceptable PM2.5 AQI & Speciation Mass']"
      ]
     },
     "execution_count": 22,
     "metadata": {},
     "output_type": "execute_result"
    }
   ],
   "source": [
    "aqs_params= list(aqs_df.parameter.unique())\n",
    "aqs_params"
   ]
  },
  {
   "cell_type": "code",
   "execution_count": 23,
   "id": "749a1661",
   "metadata": {},
   "outputs": [
    {
     "name": "stdout",
     "output_type": "stream",
     "text": [
      "['Nitric oxide (NO)']\n"
     ]
    }
   ],
   "source": [
    "unique_params = [param for param in aqs_params if param not in aqi_params]\n",
    "print(unique_params)"
   ]
  },
  {
   "cell_type": "code",
   "execution_count": 24,
   "id": "3d0bdab0",
   "metadata": {},
   "outputs": [
    {
     "data": {
      "text/plain": [
       "array(['1 HOUR', '24-HR BLK AVG'], dtype=object)"
      ]
     },
     "execution_count": 24,
     "metadata": {},
     "output_type": "execute_result"
    }
   ],
   "source": [
    "aqi_bp[aqi_bp.parameter_code == 42401].duration_description.unique()"
   ]
  },
  {
   "cell_type": "code",
   "execution_count": 25,
   "id": "740fb65a",
   "metadata": {},
   "outputs": [
    {
     "data": {
      "text/plain": [
       "array(['1 HOUR', '24-HR BLK AVG', '3-HR BLK AVG', '5 MINUTE'],\n",
       "      dtype=object)"
      ]
     },
     "execution_count": 25,
     "metadata": {},
     "output_type": "execute_result"
    }
   ],
   "source": [
    "aqs_df[aqs_df.parameter_code == 42401].sample_duration.unique()"
   ]
  },
  {
   "cell_type": "code",
   "execution_count": 26,
   "id": "b4e30fef",
   "metadata": {},
   "outputs": [
    {
     "data": {
      "text/plain": [
       "array(['8-HR RUN AVG END HOUR'], dtype=object)"
      ]
     },
     "execution_count": 26,
     "metadata": {},
     "output_type": "execute_result"
    }
   ],
   "source": [
    "aqi_bp[aqi_bp.parameter_code == 42101].duration_description.unique()"
   ]
  },
  {
   "cell_type": "code",
   "execution_count": 27,
   "id": "40b4de71",
   "metadata": {},
   "outputs": [
    {
     "data": {
      "text/plain": [
       "array(['1 HOUR', '8-HR RUN AVG END HOUR'], dtype=object)"
      ]
     },
     "execution_count": 27,
     "metadata": {},
     "output_type": "execute_result"
    }
   ],
   "source": [
    "aqs_df[aqs_df.parameter_code == 42101].sample_duration.unique()"
   ]
  },
  {
   "cell_type": "code",
   "execution_count": null,
   "id": "a1cf70f2",
   "metadata": {},
   "outputs": [],
   "source": []
  },
  {
   "cell_type": "code",
   "execution_count": 28,
   "id": "ca37128b",
   "metadata": {},
   "outputs": [],
   "source": [
    "query = \"\"\"\n",
    "        SELECT aqs_df.year,\n",
    "               aqs_df.state,\n",
    "               aqs_df.assoc_city,\n",
    "               aqs_df.county,\n",
    "               aqs_df.parameter_code,\n",
    "               aqs_df.parameter,\n",
    "               aqs_df.measure_units,\n",
    "               aqs_df.duration_code AS dur_code,\n",
    "               aqs_df.sample_duration AS dur_desc,\n",
    "               aqs_df.max_month1,\n",
    "               aqs_df.max_value1,\n",
    "               aqs_df.max_month2,\n",
    "               aqs_df.max_value2,\n",
    "               aqs_df.max_month3,\n",
    "               aqs_df.max_value3,\n",
    "               aqs_df.max_month4,\n",
    "               aqs_df.max_value4,\n",
    "               aqs_df.percentile99,\n",
    "               aqs_df.percentile95,\n",
    "               aqs_df.percentile90,\n",
    "               aqs_df.percentile75,\n",
    "               aqs_df.avg_max_value,\n",
    "               aqi_bp.low_breakpoint,\n",
    "               aqi_bp.high_breakpoint,\n",
    "               aqi_bp.aqi_category\n",
    "        FROM aqs_df\n",
    "        INNER JOIN aqi_bp\n",
    "        ON (aqs_df.parameter = aqi_bp.parameter) &\n",
    "           (aqs_df.parameter_code = aqi_bp.parameter_code) &\n",
    "           (aqs_df.duration_code = aqi_bp.duration_code) &\n",
    "           (aqs_df.sample_duration = aqi_bp.duration_description) &\n",
    "           (aqs_df.avg_max_value BETWEEN aqi_bp.low_breakpoint AND aqi_bp.high_breakpoint)\n",
    "        \"\"\"\n",
    "\n",
    "aqs_category_data = ps.sqldf(query,locals())"
   ]
  },
  {
   "cell_type": "code",
   "execution_count": 29,
   "id": "0754f3c9",
   "metadata": {},
   "outputs": [
    {
     "data": {
      "text/plain": [
       "(1489, 25)"
      ]
     },
     "execution_count": 29,
     "metadata": {},
     "output_type": "execute_result"
    }
   ],
   "source": [
    "aqs_category_data.shape"
   ]
  },
  {
   "cell_type": "code",
   "execution_count": 30,
   "id": "51142994",
   "metadata": {
    "scrolled": true
   },
   "outputs": [
    {
     "data": {
      "text/html": [
       "<div>\n",
       "<style scoped>\n",
       "    .dataframe tbody tr th:only-of-type {\n",
       "        vertical-align: middle;\n",
       "    }\n",
       "\n",
       "    .dataframe tbody tr th {\n",
       "        vertical-align: top;\n",
       "    }\n",
       "\n",
       "    .dataframe thead th {\n",
       "        text-align: right;\n",
       "    }\n",
       "</style>\n",
       "<table border=\"1\" class=\"dataframe\">\n",
       "  <thead>\n",
       "    <tr style=\"text-align: right;\">\n",
       "      <th></th>\n",
       "      <th>year</th>\n",
       "      <th>state</th>\n",
       "      <th>assoc_city</th>\n",
       "      <th>county</th>\n",
       "      <th>parameter_code</th>\n",
       "      <th>parameter</th>\n",
       "      <th>measure_units</th>\n",
       "      <th>dur_code</th>\n",
       "      <th>dur_desc</th>\n",
       "      <th>max_month1</th>\n",
       "      <th>...</th>\n",
       "      <th>max_month4</th>\n",
       "      <th>max_value4</th>\n",
       "      <th>percentile99</th>\n",
       "      <th>percentile95</th>\n",
       "      <th>percentile90</th>\n",
       "      <th>percentile75</th>\n",
       "      <th>avg_max_value</th>\n",
       "      <th>low_breakpoint</th>\n",
       "      <th>high_breakpoint</th>\n",
       "      <th>aqi_category</th>\n",
       "    </tr>\n",
       "  </thead>\n",
       "  <tbody>\n",
       "    <tr>\n",
       "      <th>0</th>\n",
       "      <td>2011</td>\n",
       "      <td>California</td>\n",
       "      <td>Los Angeles</td>\n",
       "      <td>Los Angeles</td>\n",
       "      <td>42101</td>\n",
       "      <td>Carbon monoxide</td>\n",
       "      <td>Parts per million</td>\n",
       "      <td>Z</td>\n",
       "      <td>8-HR RUN AVG END HOUR</td>\n",
       "      <td>12</td>\n",
       "      <td>...</td>\n",
       "      <td>12</td>\n",
       "      <td>0.8</td>\n",
       "      <td>0.6</td>\n",
       "      <td>0.5</td>\n",
       "      <td>0.4</td>\n",
       "      <td>0.3</td>\n",
       "      <td>0.8</td>\n",
       "      <td>0.0</td>\n",
       "      <td>4.4</td>\n",
       "      <td>GOOD</td>\n",
       "    </tr>\n",
       "    <tr>\n",
       "      <th>1</th>\n",
       "      <td>2011</td>\n",
       "      <td>California</td>\n",
       "      <td>Los Angeles</td>\n",
       "      <td>Los Angeles</td>\n",
       "      <td>42101</td>\n",
       "      <td>Carbon monoxide</td>\n",
       "      <td>Parts per million</td>\n",
       "      <td>Z</td>\n",
       "      <td>8-HR RUN AVG END HOUR</td>\n",
       "      <td>12</td>\n",
       "      <td>...</td>\n",
       "      <td>1</td>\n",
       "      <td>1.3</td>\n",
       "      <td>1.1</td>\n",
       "      <td>0.8</td>\n",
       "      <td>0.7</td>\n",
       "      <td>0.5</td>\n",
       "      <td>1.4</td>\n",
       "      <td>0.0</td>\n",
       "      <td>4.4</td>\n",
       "      <td>GOOD</td>\n",
       "    </tr>\n",
       "    <tr>\n",
       "      <th>2</th>\n",
       "      <td>2011</td>\n",
       "      <td>California</td>\n",
       "      <td>Los Angeles</td>\n",
       "      <td>Los Angeles</td>\n",
       "      <td>42101</td>\n",
       "      <td>Carbon monoxide</td>\n",
       "      <td>Parts per million</td>\n",
       "      <td>Z</td>\n",
       "      <td>8-HR RUN AVG END HOUR</td>\n",
       "      <td>12</td>\n",
       "      <td>...</td>\n",
       "      <td>12</td>\n",
       "      <td>1.5</td>\n",
       "      <td>1.1</td>\n",
       "      <td>0.8</td>\n",
       "      <td>0.7</td>\n",
       "      <td>0.5</td>\n",
       "      <td>1.5</td>\n",
       "      <td>0.0</td>\n",
       "      <td>4.4</td>\n",
       "      <td>GOOD</td>\n",
       "    </tr>\n",
       "  </tbody>\n",
       "</table>\n",
       "<p>3 rows × 25 columns</p>\n",
       "</div>"
      ],
      "text/plain": [
       "   year       state   assoc_city       county  parameter_code  \\\n",
       "0  2011  California  Los Angeles  Los Angeles           42101   \n",
       "1  2011  California  Los Angeles  Los Angeles           42101   \n",
       "2  2011  California  Los Angeles  Los Angeles           42101   \n",
       "\n",
       "         parameter      measure_units dur_code               dur_desc  \\\n",
       "0  Carbon monoxide  Parts per million        Z  8-HR RUN AVG END HOUR   \n",
       "1  Carbon monoxide  Parts per million        Z  8-HR RUN AVG END HOUR   \n",
       "2  Carbon monoxide  Parts per million        Z  8-HR RUN AVG END HOUR   \n",
       "\n",
       "   max_month1  ...  max_month4  max_value4  percentile99  percentile95  \\\n",
       "0          12  ...          12         0.8           0.6           0.5   \n",
       "1          12  ...           1         1.3           1.1           0.8   \n",
       "2          12  ...          12         1.5           1.1           0.8   \n",
       "\n",
       "   percentile90  percentile75  avg_max_value  low_breakpoint  high_breakpoint  \\\n",
       "0           0.4           0.3            0.8             0.0              4.4   \n",
       "1           0.7           0.5            1.4             0.0              4.4   \n",
       "2           0.7           0.5            1.5             0.0              4.4   \n",
       "\n",
       "   aqi_category  \n",
       "0          GOOD  \n",
       "1          GOOD  \n",
       "2          GOOD  \n",
       "\n",
       "[3 rows x 25 columns]"
      ]
     },
     "execution_count": 30,
     "metadata": {},
     "output_type": "execute_result"
    }
   ],
   "source": [
    "aqs_category_data.head(3)"
   ]
  },
  {
   "cell_type": "code",
   "execution_count": 31,
   "id": "38e4af40",
   "metadata": {},
   "outputs": [],
   "source": [
    "aqs_category_data.to_excel(r'../data/aqs_category_data.xlsx', sheet_name='aqs_category_data', index=False)"
   ]
  },
  {
   "cell_type": "code",
   "execution_count": null,
   "id": "75d6f154",
   "metadata": {},
   "outputs": [],
   "source": []
  },
  {
   "cell_type": "code",
   "execution_count": null,
   "id": "18b6d027",
   "metadata": {},
   "outputs": [],
   "source": []
  },
  {
   "cell_type": "code",
   "execution_count": null,
   "id": "0192501c",
   "metadata": {},
   "outputs": [],
   "source": []
  }
 ],
 "metadata": {
  "kernelspec": {
   "display_name": "Python 3 (ipykernel)",
   "language": "python",
   "name": "python3"
  },
  "language_info": {
   "codemirror_mode": {
    "name": "ipython",
    "version": 3
   },
   "file_extension": ".py",
   "mimetype": "text/x-python",
   "name": "python",
   "nbconvert_exporter": "python",
   "pygments_lexer": "ipython3",
   "version": "3.9.13"
  }
 },
 "nbformat": 4,
 "nbformat_minor": 5
}
