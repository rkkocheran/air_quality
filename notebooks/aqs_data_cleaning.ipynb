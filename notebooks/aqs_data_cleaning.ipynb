{
 "cells": [
  {
   "cell_type": "markdown",
   "id": "ce186b71",
   "metadata": {},
   "source": [
    "## AQS Data Exploration and Cleaning\n",
    "\n",
    "This notebook explores, cleans and prepares the data collected from the API requests from the EPA website for import into Tableau. The data gathered in this notebook is available at: https://www.epa.gov/outdoor-air-quality-data. The resulting dataset is saved as a DataFrame and exported as a CSV file titled _'aqs_category_data.csv'_ and an Excel file titled _'aqs_category_data.xlsx'_."
   ]
  },
  {
   "cell_type": "markdown",
   "id": "175abc8a",
   "metadata": {},
   "source": [
    "#### Import the Required Libraries"
   ]
  },
  {
   "cell_type": "code",
   "execution_count": null,
   "id": "c06eef7f",
   "metadata": {},
   "outputs": [],
   "source": [
    "import numpy as np\n",
    "import pandas as pd\n",
    "import pandasql as ps\n",
    "from datetime import datetime\n",
    "from collections import Counter"
   ]
  },
  {
   "cell_type": "markdown",
   "id": "a45fa7d1",
   "metadata": {},
   "source": [
    "#### Read in the AQS Raw Dataset and AQI Category Dataset"
   ]
  },
  {
   "cell_type": "code",
   "execution_count": null,
   "id": "0262ccc6",
   "metadata": {},
   "outputs": [],
   "source": [
    "aqs_df = pd.read_csv('../data/aqs_data_raw.csv')"
   ]
  },
  {
   "cell_type": "code",
   "execution_count": null,
   "id": "d3b8ee83",
   "metadata": {},
   "outputs": [],
   "source": [
    "aqi_bp = pd.read_csv('../data/aqi_breakpoints.csv')\n",
    "aqi_bp.columns = aqi_bp.columns.str.lower().str.replace(' ', '_')\n",
    "aqi_bp = aqi_bp.loc[aqi_bp.aqi_category != 'NONE']"
   ]
  },
  {
   "cell_type": "markdown",
   "id": "a5e03492",
   "metadata": {},
   "source": [
    "#### Declare the Static Variables"
   ]
  },
  {
   "cell_type": "code",
   "execution_count": null,
   "id": "18041725",
   "metadata": {},
   "outputs": [],
   "source": [
    "# A dictionary with counties as keys and associated cities as values\n",
    "city_county_dict = {'King': 'Seattle',\n",
    "                    'San Diego': 'San Diego',\n",
    "                    'Maricopa': 'Phoenix',\n",
    "                    'Hennepin': 'Minneapolis',\n",
    "                    'Denver': 'Denver',\n",
    "                    'Travis': 'Austin',\n",
    "                    'Philadelphia': 'Philadelphia',\n",
    "                    'Davidson': 'Nashville',\n",
    "                    'Duval': 'Jacksonville'}"
   ]
  },
  {
   "cell_type": "markdown",
   "id": "4647be6d",
   "metadata": {},
   "source": [
    "#### Rename the Relevant Fields"
   ]
  },
  {
   "cell_type": "code",
   "execution_count": null,
   "id": "4adcfc3f",
   "metadata": {},
   "outputs": [],
   "source": [
    "aqs_df = aqs_df.rename(columns={'units_of_measure':'measure_units',\n",
    "                                'first_max_value':'max_value1',\n",
    "                                'first_max_datetime':'max_date1', \n",
    "                                'second_max_value':'max_value2', \n",
    "                                'second_max_datetime':'max_date2',\n",
    "                                'third_max_value':'max_value3', \n",
    "                                'third_max_datetime':'max_date3', \n",
    "                                'fourth_max_value':'max_value4', \n",
    "                                'fourth_max_datetime':'max_date4',\n",
    "                                'ninety_ninth_percentile':'percentile99',\n",
    "                                'ninety_fifth_percentile':'percentile95',\n",
    "                                'ninetieth_percentile':'percentile90',\n",
    "                                'seventy_fifth_percentile':'percentile75',\n",
    "                                'sample_duration_code':'duration_code'})"
   ]
  },
  {
   "cell_type": "markdown",
   "id": "7a923546",
   "metadata": {},
   "source": [
    "#### Create a Calculated Field for the Average of the Four Max Measurement Values"
   ]
  },
  {
   "cell_type": "code",
   "execution_count": null,
   "id": "e3eb633c",
   "metadata": {},
   "outputs": [],
   "source": [
    "aqs_df['avg_max_value'] = [round(np.mean([row.max_value1, row.max_value2, row.max_value3, row.max_value4]), 1) for ind, row in aqs_df.iterrows()]"
   ]
  },
  {
   "cell_type": "code",
   "execution_count": null,
   "id": "bfe2bbc4",
   "metadata": {},
   "outputs": [],
   "source": [
    "aqs_df.parameter.value_counts()"
   ]
  },
  {
   "cell_type": "markdown",
   "id": "355efd0d",
   "metadata": {},
   "source": [
    "#### Add Associated Cities (for potential merging purposes)"
   ]
  },
  {
   "cell_type": "code",
   "execution_count": null,
   "id": "13f48d0e",
   "metadata": {},
   "outputs": [],
   "source": [
    "aqs_df['assoc_city'] = [city_county_dict[row.county] for index, row in aqs_df.iterrows()]"
   ]
  },
  {
   "cell_type": "markdown",
   "id": "283b5558",
   "metadata": {},
   "source": [
    "#### Subset for Valid Parameters"
   ]
  },
  {
   "cell_type": "code",
   "execution_count": null,
   "id": "36304224",
   "metadata": {},
   "outputs": [],
   "source": [
    "county_counts = pd.DataFrame(aqs_df.groupby(['parameter_code', 'year']).county.nunique())\n",
    "county_counts = county_counts.rename(columns={'county':'freqency'}).reset_index()"
   ]
  },
  {
   "cell_type": "code",
   "execution_count": null,
   "id": "cd289013",
   "metadata": {},
   "outputs": [],
   "source": [
    "param_county_cnt = {}\n",
    "for ind, row in county_counts.iterrows():\n",
    "    if row.freqency == 9:\n",
    "        if row.parameter_code in param_county_cnt.keys():\n",
    "            param_county_cnt[row.parameter_code] += 1\n",
    "        else:\n",
    "            param_county_cnt[row.parameter_code] = 1"
   ]
  },
  {
   "cell_type": "code",
   "execution_count": null,
   "id": "a233d279",
   "metadata": {
    "scrolled": true
   },
   "outputs": [],
   "source": [
    "valid_params = [param for param in param_county_cnt if param_county_cnt[param] >= 3]\n",
    "aqs_df = aqs_df.loc[aqs_df.parameter_code.isin(valid_params)]\n",
    "aqs_df.parameter_code.unique()"
   ]
  },
  {
   "cell_type": "code",
   "execution_count": null,
   "id": "35734f3a",
   "metadata": {},
   "outputs": [],
   "source": [
    "# After exploratory analysis, it was pertinent to only keep the 6 parameters used in \n",
    "# the AQI Breakpoints dataset, excluding 88502 which is not used in NAAQS decisions.\n",
    "# The code below filters for those parameters...\n",
    "aqi_params = list(aqi_bp.parameter_code.unique())\n",
    "aqi_params.remove(88502)\n",
    "\n",
    "aqs_df = aqs_df.loc[aqs_df.parameter_code.isin(aqi_params)]\n",
    "aqs_df.parameter.unique()"
   ]
  },
  {
   "cell_type": "markdown",
   "id": "f92fb330",
   "metadata": {},
   "source": [
    "#### Format the Max Value Date Fields to \"YYYY-MM-DD\"\n",
    "Optional: Classify each Max Value Date by its Season\n",
    "Optional Future Step: Calculate the Average Max Value for Each Season"
   ]
  },
  {
   "cell_type": "code",
   "execution_count": null,
   "id": "bbc920f7",
   "metadata": {
    "scrolled": false
   },
   "outputs": [],
   "source": [
    "columns = ['max_date1', 'max_date2', 'max_date3', 'max_date4']\n",
    "\n",
    "def get_season(value):\n",
    "    # This function returns the season associated with a date\n",
    "    # The format of the input should be 'MM-DD'\n",
    "    if (value >= '03-20') & (value <= '06-20'):\n",
    "        return 'Spring'\n",
    "    if (value >= '06-21') & (value <= '09-22'):\n",
    "        return 'Summer'\n",
    "    if (value >= '09-23') & (value <= '12-20'):\n",
    "        return 'Fall'\n",
    "    if ((value >= '12-21') & (value <= '12-31') | \n",
    "        (value >= '01-01') & (value <= '03-19')):\n",
    "        return 'Winter'\n",
    "    else:\n",
    "        return 'NA'\n",
    "    \n",
    "for col in columns:\n",
    "    # Format the date column\n",
    "    aqs_df[col] = pd.to_datetime(aqs_df[col]).dt.date \n",
    "    \n",
    "    num = col[-1:]\n",
    "    for ind, row in aqs_df.iterrows():\n",
    "        # Categorize each date by season\n",
    "        aqs_df.at[ind, 'season' + num] = get_season(str(row[col])[-5:])"
   ]
  },
  {
   "cell_type": "markdown",
   "id": "040efeda",
   "metadata": {},
   "source": [
    "#### Subset for and Reorder Relevant Fields"
   ]
  },
  {
   "cell_type": "code",
   "execution_count": null,
   "id": "2b10cc53",
   "metadata": {},
   "outputs": [],
   "source": [
    "aqs_df = aqs_df[['parameter', 'year', 'state', 'assoc_city', 'county', \n",
    "                 'max_date1', 'season1', 'max_value1', \n",
    "                 'max_date2', 'season2', 'max_value2', \n",
    "                 'max_date3', 'season3', 'max_value3', \n",
    "                 'max_date4', 'season4', 'max_value4', \n",
    "                 'avg_max_value', 'measure_units', \n",
    "                 'percentile99', 'percentile95', 'percentile90', 'percentile75', \n",
    "                 'parameter_code', 'duration_code', 'sample_duration']]"
   ]
  },
  {
   "cell_type": "code",
   "execution_count": null,
   "id": "56816c0b",
   "metadata": {
    "scrolled": true
   },
   "outputs": [],
   "source": [
    "measures = pd.DataFrame(aqs_df.groupby(['parameter', 'measure_units']).parameter.count())\n",
    "measures = measures.rename(columns={'parameter':'frequency'}).reset_index()\n",
    "measures.sort_values(by='measure_units', ascending=False).reset_index(drop=True)"
   ]
  },
  {
   "cell_type": "code",
   "execution_count": null,
   "id": "bf021dee",
   "metadata": {},
   "outputs": [],
   "source": [
    "aqs_df.to_csv(r'../data/aqs_data_cleaned.csv', index=False)\n",
    "aqs_df.to_excel(r'../data/aqs_data_cleaned.xlsx', sheet_name='aqs_data_cleaned', index=False)"
   ]
  },
  {
   "cell_type": "code",
   "execution_count": null,
   "id": "c81a0100",
   "metadata": {},
   "outputs": [],
   "source": [
    "aqs_df.shape"
   ]
  },
  {
   "cell_type": "markdown",
   "id": "382a16da",
   "metadata": {},
   "source": [
    "### Merge the AQI Category Data with the AQS Parameter Data"
   ]
  },
  {
   "cell_type": "code",
   "execution_count": null,
   "id": "cb42e705",
   "metadata": {},
   "outputs": [],
   "source": [
    "aqi_params = list(aqi_bp.parameter.unique())\n",
    "aqs_params = list(aqs_df.parameter.unique())\n",
    "unique_params = [param for param in aqs_params if param not in aqi_params]\n",
    "print(unique_params)"
   ]
  },
  {
   "cell_type": "code",
   "execution_count": null,
   "id": "ca37128b",
   "metadata": {},
   "outputs": [],
   "source": [
    "query = \"\"\"\n",
    "        SELECT aqs_df.year,\n",
    "               aqs_df.state,\n",
    "               aqs_df.assoc_city,\n",
    "               aqs_df.county,\n",
    "               aqs_df.parameter,\n",
    "               aqs_df.sample_duration AS duration,\n",
    "               aqs_df.avg_max_value,\n",
    "               aqi_bp.low_breakpoint,\n",
    "               aqi_bp.high_breakpoint,\n",
    "               aqs_df.measure_units,\n",
    "               aqi_bp.aqi_category\n",
    "        FROM aqs_df\n",
    "        INNER JOIN aqi_bp\n",
    "        ON (aqs_df.parameter = aqi_bp.parameter) &\n",
    "           (aqs_df.parameter_code = aqi_bp.parameter_code) &\n",
    "           (aqs_df.duration_code = aqi_bp.duration_code) &\n",
    "           (aqs_df.sample_duration = aqi_bp.duration_description) &\n",
    "           (aqs_df.avg_max_value BETWEEN aqi_bp.low_breakpoint AND aqi_bp.high_breakpoint)\n",
    "        \"\"\"\n",
    "\n",
    "aqs_category_data = ps.sqldf(query,locals())"
   ]
  },
  {
   "cell_type": "code",
   "execution_count": null,
   "id": "0754f3c9",
   "metadata": {},
   "outputs": [],
   "source": [
    "aqs_category_data.shape"
   ]
  },
  {
   "cell_type": "code",
   "execution_count": null,
   "id": "38e4af40",
   "metadata": {},
   "outputs": [],
   "source": [
    "aqs_category_data.to_csv(r'../data/aqs_category_data.csv', index=False)\n",
    "aqs_category_data.to_excel(r'../data/aqs_category_data.xlsx', sheet_name='aqs_category_data', index=False)"
   ]
  }
 ],
 "metadata": {
  "kernelspec": {
   "display_name": "Python 3 (ipykernel)",
   "language": "python",
   "name": "python3"
  },
  "language_info": {
   "codemirror_mode": {
    "name": "ipython",
    "version": 3
   },
   "file_extension": ".py",
   "mimetype": "text/x-python",
   "name": "python",
   "nbconvert_exporter": "python",
   "pygments_lexer": "ipython3",
   "version": "3.9.13"
  }
 },
 "nbformat": 4,
 "nbformat_minor": 5
}
