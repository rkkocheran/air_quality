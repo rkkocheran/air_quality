{
 "cells": [
  {
   "cell_type": "markdown",
   "id": "aa259ae0",
   "metadata": {},
   "source": [
    "## A Comparative Study of Regional Air Quality\n",
    "\n",
    "This notebook uses webscraping to collect pollen and allergen data for a comparative study of air quality between five cities with three significantly different terrains and two levels of population density:\n",
    "1. San Diego, California (semi-arid, coastal, 62 ft elevation, xxx population);\n",
    "2. Los Angeles, California \n",
    "3. Denver, Colorado (semi-arid, mountainous, 5414 ft elevation);\n",
    "4. Atlanta, Georgia\n",
    "5. Nashville, Tennessee (humid subtropical, forested, 597 ft elevation).\n",
    "\n",
    "The data gathered in this notebook is available at: https://www.pollen.com/research/. The resulting data is saved as a DataFrame and exported as a CSV file titled _'pollen_data.csv'_."
   ]
  },
  {
   "cell_type": "markdown",
   "id": "57814065",
   "metadata": {},
   "source": [
    "### Import the Required Libraries"
   ]
  },
  {
   "cell_type": "code",
   "execution_count": 1,
   "id": "d7188172",
   "metadata": {},
   "outputs": [],
   "source": [
    "import requests\n",
    "import pandas as pd\n",
    "from bs4 import BeautifulSoup as bs\n",
    "from selenium import webdriver\n",
    "import time"
   ]
  },
  {
   "cell_type": "markdown",
   "id": "a10cde1d",
   "metadata": {},
   "source": [
    "### Set up the Selenium Web Driver to Iterate through the Separate Charts for Each Season and Pollen Type"
   ]
  },
  {
   "cell_type": "code",
   "execution_count": 2,
   "id": "058f6f3c",
   "metadata": {},
   "outputs": [],
   "source": [
    "driver = webdriver.Chrome()"
   ]
  },
  {
   "cell_type": "markdown",
   "id": "2e5b2e47",
   "metadata": {},
   "source": [
    "### Declare the Static Variables"
   ]
  },
  {
   "cell_type": "code",
   "execution_count": 3,
   "id": "b43a2297",
   "metadata": {},
   "outputs": [],
   "source": [
    "# XPATHS for each season\n",
    "seasons = {'Spring':'//*[@id=\"seasonlist\"]/li[1]',\n",
    "           'Summer':'//*[@id=\"seasonlist\"]/li[2]',\n",
    "           'Fall':'//*[@id=\"seasonlist\"]/li[3]',\n",
    "           'Winter':'//*[@id=\"seasonlist\"]/li[4]'}\n",
    "\n",
    "# XPATHS for each pollen type\n",
    "pollens = {'Tree':'//*[@id=\"pollenlist\"]/li[1]',\n",
    "           'Grass':'//*[@id=\"pollenlist\"]/li[2]',\n",
    "           'Ragweed':'//*[@id=\"pollenlist\"]/li[3]'}"
   ]
  },
  {
   "cell_type": "code",
   "execution_count": 4,
   "id": "b6292f5e",
   "metadata": {},
   "outputs": [],
   "source": [
    "# A zip codes dictionary with zip codes as keys and city names as the values\n",
    "zip_dict = {'92101':'San Diego, CA',\n",
    "            '90001':'Los Angeles, CA',\n",
    "            '80201':'Denver, CO',\n",
    "            '30301':'Atlanta, GA',\n",
    "            '37201':'Nashville, TN'}"
   ]
  },
  {
   "cell_type": "code",
   "execution_count": 5,
   "id": "bee37d64",
   "metadata": {},
   "outputs": [],
   "source": [
    "# The common url\n",
    "url = 'https://www.pollen.com/research/'"
   ]
  },
  {
   "cell_type": "markdown",
   "id": "f430a801",
   "metadata": {},
   "source": [
    "### Loop through the Charts"
   ]
  },
  {
   "cell_type": "code",
   "execution_count": 6,
   "id": "741635c1",
   "metadata": {
    "scrolled": true
   },
   "outputs": [
    {
     "data": {
      "text/html": [
       "<div>\n",
       "<style scoped>\n",
       "    .dataframe tbody tr th:only-of-type {\n",
       "        vertical-align: middle;\n",
       "    }\n",
       "\n",
       "    .dataframe tbody tr th {\n",
       "        vertical-align: top;\n",
       "    }\n",
       "\n",
       "    .dataframe thead th {\n",
       "        text-align: right;\n",
       "    }\n",
       "</style>\n",
       "<table border=\"1\" class=\"dataframe\">\n",
       "  <thead>\n",
       "    <tr style=\"text-align: right;\">\n",
       "      <th></th>\n",
       "      <th>city</th>\n",
       "      <th>season</th>\n",
       "      <th>category</th>\n",
       "      <th>species</th>\n",
       "      <th>allergenicity</th>\n",
       "    </tr>\n",
       "  </thead>\n",
       "  <tbody>\n",
       "    <tr>\n",
       "      <th>0</th>\n",
       "      <td>San Diego, CA</td>\n",
       "      <td>Spring</td>\n",
       "      <td>Tree</td>\n",
       "      <td>Arizona Cypress (Cupressus arizonica)</td>\n",
       "      <td>Severe</td>\n",
       "    </tr>\n",
       "    <tr>\n",
       "      <th>1</th>\n",
       "      <td>San Diego, CA</td>\n",
       "      <td>Spring</td>\n",
       "      <td>Tree</td>\n",
       "      <td>Arroyo Willow (Salix lasiolepis)</td>\n",
       "      <td>Severe</td>\n",
       "    </tr>\n",
       "    <tr>\n",
       "      <th>2</th>\n",
       "      <td>San Diego, CA</td>\n",
       "      <td>Spring</td>\n",
       "      <td>Tree</td>\n",
       "      <td>Box Elder, Ash-Leaf Maple (Acer negundo)</td>\n",
       "      <td>Severe</td>\n",
       "    </tr>\n",
       "    <tr>\n",
       "      <th>3</th>\n",
       "      <td>San Diego, CA</td>\n",
       "      <td>Spring</td>\n",
       "      <td>Tree</td>\n",
       "      <td>California Black Oak (Quercus kelloggii)</td>\n",
       "      <td>Severe</td>\n",
       "    </tr>\n",
       "    <tr>\n",
       "      <th>4</th>\n",
       "      <td>San Diego, CA</td>\n",
       "      <td>Spring</td>\n",
       "      <td>Tree</td>\n",
       "      <td>Canyon Live Oak (Quercus chrysolepis)</td>\n",
       "      <td>Severe</td>\n",
       "    </tr>\n",
       "    <tr>\n",
       "      <th>...</th>\n",
       "      <td>...</td>\n",
       "      <td>...</td>\n",
       "      <td>...</td>\n",
       "      <td>...</td>\n",
       "      <td>...</td>\n",
       "    </tr>\n",
       "    <tr>\n",
       "      <th>567</th>\n",
       "      <td>Nashville, TN</td>\n",
       "      <td>Winter</td>\n",
       "      <td>Grass</td>\n",
       "      <td>Winter Bent (Agrostis hyemalis)</td>\n",
       "      <td>Severe</td>\n",
       "    </tr>\n",
       "    <tr>\n",
       "      <th>568</th>\n",
       "      <td>Nashville, TN</td>\n",
       "      <td>Winter</td>\n",
       "      <td>Ragweed</td>\n",
       "      <td>Annual Ragweed (Ambrosia artemisiifolia)</td>\n",
       "      <td>Severe</td>\n",
       "    </tr>\n",
       "    <tr>\n",
       "      <th>569</th>\n",
       "      <td>Nashville, TN</td>\n",
       "      <td>Winter</td>\n",
       "      <td>Ragweed</td>\n",
       "      <td>Pennsylvania Pellitory (Parietaria pensy...</td>\n",
       "      <td>Severe</td>\n",
       "    </tr>\n",
       "    <tr>\n",
       "      <th>570</th>\n",
       "      <td>Nashville, TN</td>\n",
       "      <td>Winter</td>\n",
       "      <td>Ragweed</td>\n",
       "      <td>Rape (Brassica rapa)</td>\n",
       "      <td>Severe</td>\n",
       "    </tr>\n",
       "    <tr>\n",
       "      <th>571</th>\n",
       "      <td>Nashville, TN</td>\n",
       "      <td>Winter</td>\n",
       "      <td>Ragweed</td>\n",
       "      <td>Spiny Amaranth (Amaranthus spinosus)</td>\n",
       "      <td>Severe</td>\n",
       "    </tr>\n",
       "  </tbody>\n",
       "</table>\n",
       "<p>572 rows × 5 columns</p>\n",
       "</div>"
      ],
      "text/plain": [
       "              city  season category  \\\n",
       "0    San Diego, CA  Spring     Tree   \n",
       "1    San Diego, CA  Spring     Tree   \n",
       "2    San Diego, CA  Spring     Tree   \n",
       "3    San Diego, CA  Spring     Tree   \n",
       "4    San Diego, CA  Spring     Tree   \n",
       "..             ...     ...      ...   \n",
       "567  Nashville, TN  Winter    Grass   \n",
       "568  Nashville, TN  Winter  Ragweed   \n",
       "569  Nashville, TN  Winter  Ragweed   \n",
       "570  Nashville, TN  Winter  Ragweed   \n",
       "571  Nashville, TN  Winter  Ragweed   \n",
       "\n",
       "                                         species allergenicity  \n",
       "0          Arizona Cypress (Cupressus arizonica)        Severe  \n",
       "1               Arroyo Willow (Salix lasiolepis)        Severe  \n",
       "2       Box Elder, Ash-Leaf Maple (Acer negundo)        Severe  \n",
       "3       California Black Oak (Quercus kelloggii)        Severe  \n",
       "4          Canyon Live Oak (Quercus chrysolepis)        Severe  \n",
       "..                                           ...           ...  \n",
       "567              Winter Bent (Agrostis hyemalis)        Severe  \n",
       "568     Annual Ragweed (Ambrosia artemisiifolia)        Severe  \n",
       "569  Pennsylvania Pellitory (Parietaria pensy...        Severe  \n",
       "570                         Rape (Brassica rapa)        Severe  \n",
       "571         Spiny Amaranth (Amaranthus spinosus)        Severe  \n",
       "\n",
       "[572 rows x 5 columns]"
      ]
     },
     "execution_count": 6,
     "metadata": {},
     "output_type": "execute_result"
    }
   ],
   "source": [
    "# Initiate an empty DataFrame\n",
    "pollen_df = pd.DataFrame(columns=['city', 'season', 'category', 'species', 'allergenicity'])\n",
    "\n",
    "# Loop through each city's page\n",
    "for code in zip_dict:\n",
    "    \n",
    "    city = zip_dict[code]\n",
    "    \n",
    "    driver.get(url + code)\n",
    "    assert city in driver.title\n",
    "    time.sleep(5)\n",
    "    \n",
    "    # Loop through each season\n",
    "    for season in seasons:\n",
    "        \n",
    "        # Select the season\n",
    "        driver.find_element_by_xpath(seasons[season]).click()\n",
    "        time.sleep(2)\n",
    "\n",
    "        # Loop through each pollen category\n",
    "        for category in pollens:\n",
    "            \n",
    "            # Select the category\n",
    "            driver.find_element_by_xpath(pollens[category]).click()\n",
    "            time.sleep(2)\n",
    "            \n",
    "            # Refresh the page content and locate the relevant element\n",
    "            page_content = bs(driver.page_source)\n",
    "            species_divs = page_content.findAll(name='div', attrs={'class':'col-sm-6 no-padding'})\n",
    "\n",
    "            # Loop through each species in the chart\n",
    "            for div in species_divs:\n",
    "                species = div.find('a').text\n",
    "                allergenicity = div.find('div').get('class')[1].title()\n",
    "\n",
    "                # Add the entry to the collective DataFrame\n",
    "                pollen_df.loc[len(pollen_df)] = [city, season, category, species, allergenicity]\n",
    "                \n",
    "pollen_df"
   ]
  },
  {
   "cell_type": "markdown",
   "id": "10fb4a67",
   "metadata": {},
   "source": [
    "### Close out the Driver"
   ]
  },
  {
   "cell_type": "code",
   "execution_count": 8,
   "id": "161e3446",
   "metadata": {},
   "outputs": [],
   "source": [
    "driver.close()"
   ]
  },
  {
   "cell_type": "markdown",
   "id": "8f2a8820",
   "metadata": {},
   "source": [
    "### Export the DataFrame"
   ]
  },
  {
   "cell_type": "code",
   "execution_count": 7,
   "id": "4a407f43",
   "metadata": {},
   "outputs": [],
   "source": [
    "pollen_df.to_csv('../data/pollen_data.csv', index=False)"
   ]
  }
 ],
 "metadata": {
  "kernelspec": {
   "display_name": "Python 3 (ipykernel)",
   "language": "python",
   "name": "python3"
  },
  "language_info": {
   "codemirror_mode": {
    "name": "ipython",
    "version": 3
   },
   "file_extension": ".py",
   "mimetype": "text/x-python",
   "name": "python",
   "nbconvert_exporter": "python",
   "pygments_lexer": "ipython3",
   "version": "3.9.13"
  }
 },
 "nbformat": 4,
 "nbformat_minor": 5
}
