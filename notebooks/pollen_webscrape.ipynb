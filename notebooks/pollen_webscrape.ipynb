{
 "cells": [
  {
   "cell_type": "markdown",
   "id": "aa259ae0",
   "metadata": {},
   "source": [
    "## A Comparative Study of Regional Air Quality\n",
    "\n",
    "This notebook uses webscraping to collect pollen and allergen data for a comparative study of air quality between five cities with three significantly different terrains and two levels of population density:\n",
    "1. San Diego, California (semi-arid, coastal, 62 ft elevation, xxx population);\n",
    "2. Los Angeles, California \n",
    "3. Denver, Colorado (semi-arid, mountainous, 5414 ft elevation);\n",
    "4. Atlanta, Georgia\n",
    "5. Nashville, Tennessee (humid subtropical, forested, 597 ft elevation).\n",
    "\n",
    "The data gathered in this notebook is available at: https://www.pollen.com/research/. The resulting data is saved as a DataFrame and exported as a CSV file titled _'pollen_data.csv'_."
   ]
  },
  {
   "cell_type": "markdown",
   "id": "57814065",
   "metadata": {},
   "source": [
    "### Import the Required Libraries"
   ]
  },
  {
   "cell_type": "code",
   "execution_count": 1,
   "id": "d7188172",
   "metadata": {},
   "outputs": [],
   "source": [
    "import requests\n",
    "import pandas as pd\n",
    "from bs4 import BeautifulSoup as bs\n",
    "from selenium import webdriver\n",
    "import time"
   ]
  },
  {
   "cell_type": "markdown",
   "id": "a10cde1d",
   "metadata": {},
   "source": [
    "### Set up the Selenium Web Driver to Iterate through the Separate Charts for Each Season and Pollen Type"
   ]
  },
  {
   "cell_type": "code",
   "execution_count": 2,
   "id": "058f6f3c",
   "metadata": {},
   "outputs": [],
   "source": [
    "driver = webdriver.Chrome()"
   ]
  },
  {
   "cell_type": "markdown",
   "id": "2e5b2e47",
   "metadata": {},
   "source": [
    "### Declare the Static Variables"
   ]
  },
  {
   "cell_type": "code",
   "execution_count": 3,
   "id": "b43a2297",
   "metadata": {},
   "outputs": [],
   "source": [
    "# XPATHS for each season\n",
    "seasons = {'Spring':'//*[@id=\"seasonlist\"]/li[1]',\n",
    "           'Summer':'//*[@id=\"seasonlist\"]/li[2]',\n",
    "           'Fall':'//*[@id=\"seasonlist\"]/li[3]',\n",
    "           'Winter':'//*[@id=\"seasonlist\"]/li[4]'}\n",
    "\n",
    "# XPATHS for each pollen type\n",
    "pollens = {'Tree':'//*[@id=\"pollenlist\"]/li[1]',\n",
    "           'Grass':'//*[@id=\"pollenlist\"]/li[2]',\n",
    "           'Ragweed':'//*[@id=\"pollenlist\"]/li[3]'}"
   ]
  },
  {
   "cell_type": "code",
   "execution_count": 4,
   "id": "b6292f5e",
   "metadata": {},
   "outputs": [],
   "source": [
    "# A zip codes dictionary with zip codes as keys and city names as the values\n",
    "zip_dict = {'98101':'Seattle, WA',\n",
    "            '90001':'Los Angeles, CA',\n",
    "            '85001':'Phoenix, AZ',\n",
    "            '55401':'Minneapolis, MN',\n",
    "            '80201':'Denver, CO',\n",
    "            '73301':'Austin, TX',\n",
    "            '10001':'New York, NY',\n",
    "            '37201':'Nashville, TN',\n",
    "            '32099':'Jacksonville, FL'}\n",
    "\n",
    "state_dict = {'WA': 'Washington',\n",
    "              'CA': 'California',\n",
    "              'AZ': 'Arizona',\n",
    "              'MN': 'Minnesota',\n",
    "              'CO': 'Colorado',\n",
    "              'TX': 'Texas',\n",
    "              'NY': 'New York',\n",
    "              'TN': 'Tennessee',\n",
    "              'FL': 'Florida'}"
   ]
  },
  {
   "cell_type": "code",
   "execution_count": 5,
   "id": "bee37d64",
   "metadata": {},
   "outputs": [],
   "source": [
    "# The common url\n",
    "url = 'https://www.pollen.com/research/'"
   ]
  },
  {
   "cell_type": "markdown",
   "id": "f430a801",
   "metadata": {},
   "source": [
    "### Loop through the Charts"
   ]
  },
  {
   "cell_type": "code",
   "execution_count": 6,
   "id": "741635c1",
   "metadata": {
    "scrolled": true
   },
   "outputs": [
    {
     "data": {
      "text/html": [
       "<div>\n",
       "<style scoped>\n",
       "    .dataframe tbody tr th:only-of-type {\n",
       "        vertical-align: middle;\n",
       "    }\n",
       "\n",
       "    .dataframe tbody tr th {\n",
       "        vertical-align: top;\n",
       "    }\n",
       "\n",
       "    .dataframe thead th {\n",
       "        text-align: right;\n",
       "    }\n",
       "</style>\n",
       "<table border=\"1\" class=\"dataframe\">\n",
       "  <thead>\n",
       "    <tr style=\"text-align: right;\">\n",
       "      <th></th>\n",
       "      <th>city</th>\n",
       "      <th>season</th>\n",
       "      <th>category</th>\n",
       "      <th>species</th>\n",
       "      <th>allergenicity</th>\n",
       "    </tr>\n",
       "  </thead>\n",
       "  <tbody>\n",
       "    <tr>\n",
       "      <th>0</th>\n",
       "      <td>Seattle, WA</td>\n",
       "      <td>Spring</td>\n",
       "      <td>Tree</td>\n",
       "      <td>Black Walnut (Juglans nigra)</td>\n",
       "      <td>Severe</td>\n",
       "    </tr>\n",
       "    <tr>\n",
       "      <th>1</th>\n",
       "      <td>Seattle, WA</td>\n",
       "      <td>Spring</td>\n",
       "      <td>Tree</td>\n",
       "      <td>Coastal Willow (Salix hookeriana)</td>\n",
       "      <td>Severe</td>\n",
       "    </tr>\n",
       "    <tr>\n",
       "      <th>2</th>\n",
       "      <td>Seattle, WA</td>\n",
       "      <td>Spring</td>\n",
       "      <td>Tree</td>\n",
       "      <td>European Privet (Ligustrum vulgare)</td>\n",
       "      <td>Severe</td>\n",
       "    </tr>\n",
       "    <tr>\n",
       "      <th>3</th>\n",
       "      <td>Seattle, WA</td>\n",
       "      <td>Spring</td>\n",
       "      <td>Tree</td>\n",
       "      <td>Geyer's Willow (Salix geyeriana)</td>\n",
       "      <td>Severe</td>\n",
       "    </tr>\n",
       "    <tr>\n",
       "      <th>4</th>\n",
       "      <td>Seattle, WA</td>\n",
       "      <td>Spring</td>\n",
       "      <td>Tree</td>\n",
       "      <td>Green Ash (Fraxinus pennsylvanica)</td>\n",
       "      <td>Severe</td>\n",
       "    </tr>\n",
       "    <tr>\n",
       "      <th>...</th>\n",
       "      <td>...</td>\n",
       "      <td>...</td>\n",
       "      <td>...</td>\n",
       "      <td>...</td>\n",
       "      <td>...</td>\n",
       "    </tr>\n",
       "    <tr>\n",
       "      <th>935</th>\n",
       "      <td>Jacksonville, FL</td>\n",
       "      <td>Winter</td>\n",
       "      <td>Ragweed</td>\n",
       "      <td>Florida Pellitory (Parietaria floridana)</td>\n",
       "      <td>Severe</td>\n",
       "    </tr>\n",
       "    <tr>\n",
       "      <th>936</th>\n",
       "      <td>Jacksonville, FL</td>\n",
       "      <td>Winter</td>\n",
       "      <td>Ragweed</td>\n",
       "      <td>Saltwater False Willow (Baccharis angust...</td>\n",
       "      <td>Severe</td>\n",
       "    </tr>\n",
       "    <tr>\n",
       "      <th>937</th>\n",
       "      <td>Jacksonville, FL</td>\n",
       "      <td>Winter</td>\n",
       "      <td>Ragweed</td>\n",
       "      <td>Silverling (Baccharis glomeruliflora)</td>\n",
       "      <td>Severe</td>\n",
       "    </tr>\n",
       "    <tr>\n",
       "      <th>938</th>\n",
       "      <td>Jacksonville, FL</td>\n",
       "      <td>Winter</td>\n",
       "      <td>Ragweed</td>\n",
       "      <td>Small-Head Marsh-Elder (Iva microcephala...</td>\n",
       "      <td>Severe</td>\n",
       "    </tr>\n",
       "    <tr>\n",
       "      <th>939</th>\n",
       "      <td>Jacksonville, FL</td>\n",
       "      <td>Winter</td>\n",
       "      <td>Ragweed</td>\n",
       "      <td>Spiny Amaranth (Amaranthus spinosus)</td>\n",
       "      <td>Severe</td>\n",
       "    </tr>\n",
       "  </tbody>\n",
       "</table>\n",
       "<p>940 rows × 5 columns</p>\n",
       "</div>"
      ],
      "text/plain": [
       "                 city  season category  \\\n",
       "0         Seattle, WA  Spring     Tree   \n",
       "1         Seattle, WA  Spring     Tree   \n",
       "2         Seattle, WA  Spring     Tree   \n",
       "3         Seattle, WA  Spring     Tree   \n",
       "4         Seattle, WA  Spring     Tree   \n",
       "..                ...     ...      ...   \n",
       "935  Jacksonville, FL  Winter  Ragweed   \n",
       "936  Jacksonville, FL  Winter  Ragweed   \n",
       "937  Jacksonville, FL  Winter  Ragweed   \n",
       "938  Jacksonville, FL  Winter  Ragweed   \n",
       "939  Jacksonville, FL  Winter  Ragweed   \n",
       "\n",
       "                                         species allergenicity  \n",
       "0                   Black Walnut (Juglans nigra)        Severe  \n",
       "1              Coastal Willow (Salix hookeriana)        Severe  \n",
       "2            European Privet (Ligustrum vulgare)        Severe  \n",
       "3               Geyer's Willow (Salix geyeriana)        Severe  \n",
       "4             Green Ash (Fraxinus pennsylvanica)        Severe  \n",
       "..                                           ...           ...  \n",
       "935     Florida Pellitory (Parietaria floridana)        Severe  \n",
       "936  Saltwater False Willow (Baccharis angust...        Severe  \n",
       "937        Silverling (Baccharis glomeruliflora)        Severe  \n",
       "938  Small-Head Marsh-Elder (Iva microcephala...        Severe  \n",
       "939         Spiny Amaranth (Amaranthus spinosus)        Severe  \n",
       "\n",
       "[940 rows x 5 columns]"
      ]
     },
     "execution_count": 6,
     "metadata": {},
     "output_type": "execute_result"
    }
   ],
   "source": [
    "# Initiate an empty DataFrame\n",
    "pollen_df = pd.DataFrame(columns=['city', 'season', 'category', 'species', 'allergenicity'])\n",
    "\n",
    "# Loop through each city's page\n",
    "for code in zip_dict:\n",
    "    \n",
    "    city = zip_dict[code]\n",
    "    \n",
    "    driver.get(url + code)\n",
    "    assert city in driver.title\n",
    "    time.sleep(5)\n",
    "    \n",
    "    # Loop through each season\n",
    "    for season in seasons:\n",
    "        \n",
    "        # Select the season\n",
    "        driver.find_element_by_xpath(seasons[season]).click()\n",
    "        time.sleep(2)\n",
    "\n",
    "        # Loop through each pollen category\n",
    "        for category in pollens:\n",
    "            \n",
    "            # Select the category\n",
    "            driver.find_element_by_xpath(pollens[category]).click()\n",
    "            time.sleep(2)\n",
    "            \n",
    "            # Refresh the page content and locate the relevant element\n",
    "            page_content = bs(driver.page_source)\n",
    "            species_divs = page_content.findAll(name='div', attrs={'class':'col-sm-6 no-padding'})\n",
    "\n",
    "            # Loop through each species in the chart\n",
    "            for div in species_divs:\n",
    "                species = div.find('a').text\n",
    "                allergenicity = div.find('div').get('class')[1].title()\n",
    "\n",
    "                # Add the entry to the collective DataFrame\n",
    "                pollen_df.loc[len(pollen_df)] = [city, season, category, species, allergenicity]\n",
    "                \n",
    "pollen_df"
   ]
  },
  {
   "cell_type": "markdown",
   "id": "ecb38c2d",
   "metadata": {},
   "source": [
    "#### Split the City Column"
   ]
  },
  {
   "cell_type": "code",
   "execution_count": 7,
   "id": "ead77bc0",
   "metadata": {
    "scrolled": true
   },
   "outputs": [],
   "source": [
    "pollen_df[['city', 'state']] = pollen_df['city'].str.split(', ', expand=True)\n",
    "pollen_df['state'] = [state_dict[row.state] for index, row in pollen_df.iterrows()]"
   ]
  },
  {
   "cell_type": "code",
   "execution_count": 8,
   "id": "fe86b130",
   "metadata": {},
   "outputs": [],
   "source": [
    "pollen_df = pollen_df[['city', 'state', 'season', 'category', 'species', 'allergenicity']]"
   ]
  },
  {
   "cell_type": "markdown",
   "id": "10fb4a67",
   "metadata": {},
   "source": [
    "### Close out the Driver"
   ]
  },
  {
   "cell_type": "code",
   "execution_count": 9,
   "id": "161e3446",
   "metadata": {},
   "outputs": [],
   "source": [
    "driver.close()"
   ]
  },
  {
   "cell_type": "markdown",
   "id": "8f2a8820",
   "metadata": {},
   "source": [
    "### Export the DataFrame"
   ]
  },
  {
   "cell_type": "code",
   "execution_count": 10,
   "id": "4a407f43",
   "metadata": {},
   "outputs": [],
   "source": [
    "pollen_df.to_excel(r'../data/pollen_data.xlsx', sheet_name='pollen_data', index=False)"
   ]
  },
  {
   "cell_type": "code",
   "execution_count": null,
   "id": "61fdb6a6",
   "metadata": {},
   "outputs": [],
   "source": []
  }
 ],
 "metadata": {
  "kernelspec": {
   "display_name": "Python 3 (ipykernel)",
   "language": "python",
   "name": "python3"
  },
  "language_info": {
   "codemirror_mode": {
    "name": "ipython",
    "version": 3
   },
   "file_extension": ".py",
   "mimetype": "text/x-python",
   "name": "python",
   "nbconvert_exporter": "python",
   "pygments_lexer": "ipython3",
   "version": "3.9.13"
  }
 },
 "nbformat": 4,
 "nbformat_minor": 5
}
