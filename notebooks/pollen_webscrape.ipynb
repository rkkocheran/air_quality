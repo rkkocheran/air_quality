{
 "cells": [
  {
   "cell_type": "markdown",
   "id": "aa259ae0",
   "metadata": {},
   "source": [
    "## Webscraping for Regional Pollen Data\n",
    "\n",
    "This notebook uses webscraping to collect pollen and allergen data for a comparative study of air quality between nine cities with different topographies, elevations, population densities and flora:\n",
    "\n",
    "1.   Seattle, Washington\n",
    "2.   San Diego, California\n",
    "3.   Phoenix, Arizona\n",
    "4.   Minneapolis, Minnesota\n",
    "5.   Denver, Colorado\n",
    "6.   Austin, Texas\n",
    "7.   Philadelphia, Pennsylvania\n",
    "8.   Nashville, Tennessee\n",
    "9.   Jacksonville, Florida\n",
    "\n",
    "The data gathered in this notebook is available at: https://www.pollen.com/research/. The resulting data is saved as a DataFrame and exported as a CSV file titled _'pollen_data.csv'_ and an Excel file titled _'pollen_data.xlsx'_."
   ]
  },
  {
   "cell_type": "markdown",
   "id": "57814065",
   "metadata": {},
   "source": [
    "### Import the Required Libraries"
   ]
  },
  {
   "cell_type": "code",
   "execution_count": null,
   "id": "d7188172",
   "metadata": {},
   "outputs": [],
   "source": [
    "import requests\n",
    "import pandas as pd\n",
    "from bs4 import BeautifulSoup as bs\n",
    "from selenium import webdriver\n",
    "import time"
   ]
  },
  {
   "cell_type": "markdown",
   "id": "a10cde1d",
   "metadata": {},
   "source": [
    "### Set up the Selenium Web Driver to Iterate through the Separate Charts for Each Season and Pollen Type"
   ]
  },
  {
   "cell_type": "code",
   "execution_count": null,
   "id": "058f6f3c",
   "metadata": {},
   "outputs": [],
   "source": [
    "driver = webdriver.Chrome()"
   ]
  },
  {
   "cell_type": "markdown",
   "id": "2e5b2e47",
   "metadata": {},
   "source": [
    "### Declare the Static Variables"
   ]
  },
  {
   "cell_type": "code",
   "execution_count": null,
   "id": "b43a2297",
   "metadata": {},
   "outputs": [],
   "source": [
    "# XPATHS for each season\n",
    "seasons = {'Spring':'//*[@id=\"seasonlist\"]/li[1]',\n",
    "           'Summer':'//*[@id=\"seasonlist\"]/li[2]',\n",
    "           'Fall':'//*[@id=\"seasonlist\"]/li[3]',\n",
    "           'Winter':'//*[@id=\"seasonlist\"]/li[4]'}\n",
    "\n",
    "# XPATHS for each pollen type\n",
    "pollens = {'Tree':'//*[@id=\"pollenlist\"]/li[1]',\n",
    "           'Grass':'//*[@id=\"pollenlist\"]/li[2]',\n",
    "           'Ragweed':'//*[@id=\"pollenlist\"]/li[3]'}"
   ]
  },
  {
   "cell_type": "code",
   "execution_count": null,
   "id": "b6292f5e",
   "metadata": {},
   "outputs": [],
   "source": [
    "# A zip codes dictionary with zip codes as keys and city names as the values\n",
    "zip_dict = {'98101':'Seattle, WA',\n",
    "            '92101':'San Diego, CA',\n",
    "            '85001':'Phoenix, AZ',\n",
    "            '55401':'Minneapolis, MN',\n",
    "            '80201':'Denver, CO',\n",
    "            '73301':'Austin, TX',\n",
    "            '19019':'Philadelphia, PA',\n",
    "            '37201':'Nashville, TN',\n",
    "            '32099':'Jacksonville, FL'}\n",
    "\n",
    "state_dict = {'WA': 'Washington',\n",
    "              'CA': 'California',\n",
    "              'AZ': 'Arizona',\n",
    "              'MN': 'Minnesota',\n",
    "              'CO': 'Colorado',\n",
    "              'TX': 'Texas',\n",
    "              'PA': 'Pennsylvania',\n",
    "              'TN': 'Tennessee',\n",
    "              'FL': 'Florida'}"
   ]
  },
  {
   "cell_type": "code",
   "execution_count": null,
   "id": "bee37d64",
   "metadata": {},
   "outputs": [],
   "source": [
    "# The common url\n",
    "url = 'https://www.pollen.com/research/'"
   ]
  },
  {
   "cell_type": "markdown",
   "id": "f430a801",
   "metadata": {},
   "source": [
    "### Loop through the Charts"
   ]
  },
  {
   "cell_type": "code",
   "execution_count": null,
   "id": "741635c1",
   "metadata": {
    "scrolled": true
   },
   "outputs": [],
   "source": [
    "# Initiate an empty DataFrame\n",
    "pollen_df = pd.DataFrame(columns=['city', 'season', 'category', 'species', 'allergenicity'])\n",
    "\n",
    "# Loop through each city's page\n",
    "for code in zip_dict:\n",
    "    \n",
    "    city = zip_dict[code]\n",
    "    \n",
    "    driver.get(url + code)\n",
    "    assert city in driver.title\n",
    "    time.sleep(5)\n",
    "    \n",
    "    # Loop through each season\n",
    "    for season in seasons:\n",
    "        \n",
    "        # Select the season\n",
    "        driver.find_element_by_xpath(seasons[season]).click()\n",
    "        time.sleep(2)\n",
    "\n",
    "        # Loop through each pollen category\n",
    "        for category in pollens:\n",
    "            \n",
    "            # Select the category\n",
    "            driver.find_element_by_xpath(pollens[category]).click()\n",
    "            time.sleep(2)\n",
    "            \n",
    "            # Refresh the page content and locate the relevant element\n",
    "            page_content = bs(driver.page_source)\n",
    "            species_divs = page_content.findAll(name='div', attrs={'class':'col-sm-6 no-padding'})\n",
    "\n",
    "            # Loop through each species in the chart\n",
    "            for div in species_divs:\n",
    "                species = div.find('a').text\n",
    "                allergenicity = div.find('div').get('class')[1].title()\n",
    "\n",
    "                # Add the entry to the collective DataFrame\n",
    "                pollen_df.loc[len(pollen_df)] = [city, season, category, species, allergenicity]"
   ]
  },
  {
   "cell_type": "markdown",
   "id": "ecb38c2d",
   "metadata": {},
   "source": [
    "#### Split the City Column"
   ]
  },
  {
   "cell_type": "code",
   "execution_count": null,
   "id": "ead77bc0",
   "metadata": {
    "scrolled": true
   },
   "outputs": [],
   "source": [
    "pollen_df[['city', 'state']] = pollen_df['city'].str.split(', ', expand=True)\n",
    "pollen_df['state'] = [state_dict[row.state] for index, row in pollen_df.iterrows()]"
   ]
  },
  {
   "cell_type": "code",
   "execution_count": null,
   "id": "fe86b130",
   "metadata": {},
   "outputs": [],
   "source": [
    "pollen_df = pollen_df[['city', 'state', 'season', 'category', 'species', 'allergenicity']]"
   ]
  },
  {
   "cell_type": "code",
   "execution_count": null,
   "id": "5791337b",
   "metadata": {},
   "outputs": [],
   "source": [
    "pollen_df"
   ]
  },
  {
   "cell_type": "markdown",
   "id": "10fb4a67",
   "metadata": {},
   "source": [
    "### Close the Driver"
   ]
  },
  {
   "cell_type": "code",
   "execution_count": null,
   "id": "161e3446",
   "metadata": {},
   "outputs": [],
   "source": [
    "driver.close()"
   ]
  },
  {
   "cell_type": "markdown",
   "id": "8f2a8820",
   "metadata": {},
   "source": [
    "### Export the DataFrame"
   ]
  },
  {
   "cell_type": "code",
   "execution_count": null,
   "id": "4a407f43",
   "metadata": {},
   "outputs": [],
   "source": [
    "pollen_df.to_csv(r'../data/pollen_data.csv', index=False)\n",
    "pollen_df.to_excel(r'../data/pollen_data.xlsx', sheet_name='pollen_data', index=False)"
   ]
  }
 ],
 "metadata": {
  "kernelspec": {
   "display_name": "Python 3 (ipykernel)",
   "language": "python",
   "name": "python3"
  },
  "language_info": {
   "codemirror_mode": {
    "name": "ipython",
    "version": 3
   },
   "file_extension": ".py",
   "mimetype": "text/x-python",
   "name": "python",
   "nbconvert_exporter": "python",
   "pygments_lexer": "ipython3",
   "version": "3.9.13"
  }
 },
 "nbformat": 4,
 "nbformat_minor": 5
}
