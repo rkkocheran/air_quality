{
 "cells": [
  {
   "cell_type": "markdown",
   "id": "e5732fdd",
   "metadata": {},
   "source": [
    "## A Comparative Study of Regional Air Quality\n",
    "\n",
    "This notebook uses webscraping to collect general city data for a comparative study of air quality between five cities with three significantly different terrains and two levels of population density:\n",
    "1. San Diego, California (semi-arid, coastal, 62 ft elevation, xxx population);\n",
    "2. Los Angeles, California \n",
    "3. Denver, Colorado (semi-arid, mountainous, 5414 ft elevation);\n",
    "4. Atlanta, Georgia\n",
    "5. Nashville, Tennessee (humid subtropical, forested, 597 ft elevation).\n",
    "\n",
    "The data gathered in this notebook is available at: https://en.wikipedia.org/wiki/."
   ]
  },
  {
   "cell_type": "markdown",
   "id": "3e0328f3",
   "metadata": {},
   "source": [
    "### Import the Required Libraries"
   ]
  },
  {
   "cell_type": "code",
   "execution_count": 1,
   "id": "31103a1c",
   "metadata": {},
   "outputs": [],
   "source": [
    "import requests\n",
    "import pandas as pd\n",
    "from bs4 import BeautifulSoup as bs\n",
    "import time\n",
    "import string"
   ]
  },
  {
   "cell_type": "markdown",
   "id": "3b070c1c",
   "metadata": {},
   "source": [
    "### Declare the Static Variables"
   ]
  },
  {
   "cell_type": "code",
   "execution_count": 2,
   "id": "29f8df6c",
   "metadata": {},
   "outputs": [],
   "source": [
    "# The url ids for each city\n",
    "city_id = {'San Diego':'San_Diego',\n",
    "           'Los Angeles':'Los_Angeles',\n",
    "           'Denver':'Denver',\n",
    "           'Atlanta':'Atlanta',\n",
    "           'Nashville':'Nashville'}"
   ]
  },
  {
   "cell_type": "code",
   "execution_count": 3,
   "id": "177a992c",
   "metadata": {},
   "outputs": [],
   "source": [
    "# The tags in the sourcecode\n",
    "header_text = {'county':'County',\n",
    "               'pop_total':'Population', \n",
    "               'pop_density':'Density', \n",
    "               'elevation':'Elevation',\n",
    "               'climate':'Climate'} # a title=\"SOMETHING SOMETHING climate\"\n",
    "# 'city' in div class=\"fn org\"'\n",
    "# 'usgs_year' in sup id=\"cite_ref-usgs_7-0\", class=\"reference\" UNDER THE ELEVATION HEADER\n",
    "# 'pop_year' in div class='ib-settlement-fn' -- span class=\"nowrap\" -- a (text) UNDER POPULATION HEADER"
   ]
  },
  {
   "cell_type": "code",
   "execution_count": 4,
   "id": "0584520d",
   "metadata": {},
   "outputs": [],
   "source": [
    "# The common url\n",
    "url = 'https://en.wikipedia.org/wiki/'"
   ]
  },
  {
   "cell_type": "code",
   "execution_count": 5,
   "id": "3b7ceb2b",
   "metadata": {
    "scrolled": true
   },
   "outputs": [
    {
     "data": {
      "text/plain": [
       "'San_Diego'"
      ]
     },
     "execution_count": 5,
     "metadata": {},
     "output_type": "execute_result"
    }
   ],
   "source": [
    "list(city_id.values())[0]"
   ]
  },
  {
   "cell_type": "code",
   "execution_count": 6,
   "id": "20bda0dc",
   "metadata": {},
   "outputs": [
    {
     "data": {
      "text/plain": [
       "'San Diego'"
      ]
     },
     "execution_count": 6,
     "metadata": {},
     "output_type": "execute_result"
    }
   ],
   "source": [
    "list(city_id.keys())[0]"
   ]
  },
  {
   "cell_type": "code",
   "execution_count": 7,
   "id": "32bf8fd2",
   "metadata": {},
   "outputs": [],
   "source": [
    "urltest=url+list(city_id.values())[0] # Test for San_Diego only\n",
    "\n",
    "wiki_html = requests.get(urltest)"
   ]
  },
  {
   "cell_type": "code",
   "execution_count": 8,
   "id": "1f2f8c7c",
   "metadata": {},
   "outputs": [
    {
     "name": "stdout",
     "output_type": "stream",
     "text": [
      "Status Code: 200\n",
      "Status Type: <class 'requests.models.Response'>\n",
      "Code:\n"
     ]
    }
   ],
   "source": [
    "print('Status Code:',wiki_html.status_code)\n",
    "print('Status Type:',type(wiki_html))\n",
    "print('Code:')\n",
    "#print(wiki_html.text)"
   ]
  },
  {
   "cell_type": "code",
   "execution_count": 9,
   "id": "a6e6d94f",
   "metadata": {},
   "outputs": [],
   "source": [
    "wiki_html = bs(wiki_html.text)\n",
    "#wiki_html\n",
    "#time.sleep(2)"
   ]
  },
  {
   "cell_type": "code",
   "execution_count": 10,
   "id": "6cb100d5",
   "metadata": {},
   "outputs": [
    {
     "data": {
      "text/plain": [
       "<title>San Diego - Wikipedia</title>"
      ]
     },
     "execution_count": 10,
     "metadata": {},
     "output_type": "execute_result"
    }
   ],
   "source": [
    "wiki_html.find('title')"
   ]
  },
  {
   "cell_type": "code",
   "execution_count": 11,
   "id": "90399bef",
   "metadata": {},
   "outputs": [
    {
     "data": {
      "text/plain": [
       "'San Diego - Wikipedia'"
      ]
     },
     "execution_count": 11,
     "metadata": {},
     "output_type": "execute_result"
    }
   ],
   "source": [
    "wiki_html.find('title').text"
   ]
  },
  {
   "cell_type": "code",
   "execution_count": 12,
   "id": "331da0e8",
   "metadata": {},
   "outputs": [
    {
     "data": {
      "text/html": [
       "<div>\n",
       "<style scoped>\n",
       "    .dataframe tbody tr th:only-of-type {\n",
       "        vertical-align: middle;\n",
       "    }\n",
       "\n",
       "    .dataframe tbody tr th {\n",
       "        vertical-align: top;\n",
       "    }\n",
       "\n",
       "    .dataframe thead th {\n",
       "        text-align: right;\n",
       "    }\n",
       "</style>\n",
       "<table border=\"1\" class=\"dataframe\">\n",
       "  <thead>\n",
       "    <tr style=\"text-align: right;\">\n",
       "      <th></th>\n",
       "      <th>city</th>\n",
       "      <th>county</th>\n",
       "      <th>pop_year</th>\n",
       "      <th>pop_total</th>\n",
       "      <th>pop_density</th>\n",
       "      <th>usgs_year</th>\n",
       "      <th>elevation</th>\n",
       "      <th>climate</th>\n",
       "    </tr>\n",
       "  </thead>\n",
       "  <tbody>\n",
       "  </tbody>\n",
       "</table>\n",
       "</div>"
      ],
      "text/plain": [
       "Empty DataFrame\n",
       "Columns: [city, county, pop_year, pop_total, pop_density, usgs_year, elevation, climate]\n",
       "Index: []"
      ]
     },
     "execution_count": 12,
     "metadata": {},
     "output_type": "execute_result"
    }
   ],
   "source": [
    "# Verify the city is correct\n",
    "assert list(city_id.keys())[0] in wiki_html.find('title').text\n",
    "\n",
    "# Initiate an empty DataFrame\n",
    "city_info = pd.DataFrame(columns=['city', 'county', 'pop_year', 'pop_total', 'pop_density', 'usgs_year', 'elevation', 'climate'])\n",
    "\n",
    "city_info"
   ]
  },
  {
   "cell_type": "markdown",
   "id": "6b555c71",
   "metadata": {},
   "source": [
    "The tags in the sourcecode\n",
    "header_text = {'county':'County',\n",
    "               'pop_total':'Population', \n",
    "               'pop_density':'Density', \n",
    "               'elevation':'Elevation',\n",
    "               'climate':'Climate'} # a title=\"SOMETHING SOMETHING climate\"\n",
    "#'city' in div class=\"fn org\"'\n",
    "#'usgs_year' in sup id=\"cite_ref-usgs_7-0\", class=\"reference\" UNDER THE ELEVATION HEADER\n",
    " 'pop_year' in div class='ib-settlement-fn' -- span class=\"nowrap\" -- a (text) UNDER POPULATION HEADER"
   ]
  },
  {
   "cell_type": "code",
   "execution_count": 13,
   "id": "664b60fe",
   "metadata": {},
   "outputs": [],
   "source": [
    "table_info = wiki_html.findAll('table', attrs={'class':'ib-settlement'})[0]"
   ]
  },
  {
   "cell_type": "code",
   "execution_count": 14,
   "id": "6a350178",
   "metadata": {},
   "outputs": [],
   "source": [
    "table_rows = table_info.findAll('tr')"
   ]
  },
  {
   "cell_type": "code",
   "execution_count": 15,
   "id": "d6537f2a",
   "metadata": {
    "scrolled": true
   },
   "outputs": [
    {
     "data": {
      "text/plain": [
       "<tr class=\"mergedtoprow\"><th class=\"infobox-label\" scope=\"row\">Elevation<div class=\"ib-settlement-fn\"><sup class=\"reference\" id=\"cite_ref-usgs_7-0\"><a href=\"#cite_note-usgs-7\">[7]</a></sup></div></th><td class=\"infobox-data\">62 ft (19 m)</td></tr>"
      ]
     },
     "execution_count": 15,
     "metadata": {},
     "output_type": "execute_result"
    }
   ],
   "source": [
    "table_rows[27]"
   ]
  },
  {
   "cell_type": "code",
   "execution_count": 16,
   "id": "3eaf2bf4",
   "metadata": {},
   "outputs": [
    {
     "data": {
      "text/plain": [
       "[<th class=\"infobox-above\" colspan=\"2\"><div class=\"fn org\">San Diego</div></th>]"
      ]
     },
     "execution_count": 16,
     "metadata": {},
     "output_type": "execute_result"
    }
   ],
   "source": [
    "table_rows[0].findAll('th')"
   ]
  },
  {
   "cell_type": "code",
   "execution_count": 17,
   "id": "89b867e4",
   "metadata": {},
   "outputs": [
    {
     "data": {
      "text/plain": [
       "True"
      ]
     },
     "execution_count": 17,
     "metadata": {},
     "output_type": "execute_result"
    }
   ],
   "source": [
    "any(city_id.keys())"
   ]
  },
  {
   "cell_type": "code",
   "execution_count": 19,
   "id": "d586ec6e",
   "metadata": {},
   "outputs": [
    {
     "data": {
      "text/plain": [
       "'4,255.96/sq mi (1,643.25/km2)'"
      ]
     },
     "execution_count": 19,
     "metadata": {},
     "output_type": "execute_result"
    }
   ],
   "source": [
    "#table_rows[27].find('td').text.replace('\\xa0', ' ')\n",
    "table_rows[33].find('td').text.replace('\\xa0', ' ')"
   ]
  },
  {
   "cell_type": "code",
   "execution_count": 20,
   "id": "8c456005",
   "metadata": {},
   "outputs": [
    {
     "data": {
      "text/plain": [
       "'San Diego'"
      ]
     },
     "execution_count": 20,
     "metadata": {},
     "output_type": "execute_result"
    }
   ],
   "source": [
    "table_info.find('div', attrs={'class':'fn org'}).text"
   ]
  },
  {
   "cell_type": "code",
   "execution_count": 24,
   "id": "d21645d0",
   "metadata": {},
   "outputs": [],
   "source": [
    "info = {}\n",
    "info['city'] = table_info.find('div', attrs={'class':'fn org'}).text\n",
    "for row in table_rows:\n",
    "    headers = row.findAll('th')\n",
    "    for h in headers:\n",
    "        if h.text.find('Population') != -1:\n",
    "            info['pop_year'] = row.find('a').text\n",
    "        elif h.text.find('Total') != -1:\n",
    "            info['pop_total'] = row.find('td').text\n",
    "        elif h.text.find('Density') != -1:\n",
    "            info['pop_density'] = row.find('td').text.replace('\\xa0', ' ')\n",
    "        elif h.text.find('Elevation') != -1:\n",
    "            info['elevation'] = row.find('td').text.replace('\\xa0', ' ')\n",
    "\n",
    " \n",
    "#    if (header.text == 'County') | (header.text == 'City and county'):\n",
    "#        info['county'] = 's'"
   ]
  },
  {
   "cell_type": "code",
   "execution_count": 25,
   "id": "69c56835",
   "metadata": {},
   "outputs": [
    {
     "name": "stdout",
     "output_type": "stream",
     "text": [
      "{'city': 'San Diego', 'pop_total': '1,386,932', 'elevation': '62 ft (19 m)', 'pop_year': '2020', 'pop_density': '4,255.96/sq mi (1,643.25/km2)'}\n"
     ]
    }
   ],
   "source": [
    "print(info)"
   ]
  },
  {
   "cell_type": "code",
   "execution_count": 26,
   "id": "86de0ddf",
   "metadata": {},
   "outputs": [
    {
     "data": {
      "text/plain": [
       "Index(['city', 'county', 'pop_year', 'pop_total', 'pop_density', 'usgs_year',\n",
       "       'elevation', 'climate'],\n",
       "      dtype='object')"
      ]
     },
     "execution_count": 26,
     "metadata": {},
     "output_type": "execute_result"
    }
   ],
   "source": [
    "city_info.columns"
   ]
  },
  {
   "cell_type": "code",
   "execution_count": null,
   "id": "46ef4cb9",
   "metadata": {},
   "outputs": [],
   "source": []
  }
 ],
 "metadata": {
  "kernelspec": {
   "display_name": "Python 3 (ipykernel)",
   "language": "python",
   "name": "python3"
  },
  "language_info": {
   "codemirror_mode": {
    "name": "ipython",
    "version": 3
   },
   "file_extension": ".py",
   "mimetype": "text/x-python",
   "name": "python",
   "nbconvert_exporter": "python",
   "pygments_lexer": "ipython3",
   "version": "3.9.13"
  }
 },
 "nbformat": 4,
 "nbformat_minor": 5
}
