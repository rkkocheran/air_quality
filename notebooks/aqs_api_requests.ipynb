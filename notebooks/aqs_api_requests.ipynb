{
 "cells": [
  {
   "cell_type": "markdown",
   "id": "7ba34704",
   "metadata": {},
   "source": [
    "## API Requests from the EPA Website\n",
    "\n",
    "This notebook performs API requests to collect data for a comparative study of air quality between nine cities spread throughout the US:\n",
    "\n",
    "1.   Seattle, Washington\n",
    "2.   San Diego, California\n",
    "3.   Phoenix, Arizona\n",
    "4.   Minneapolis, Minnesota\n",
    "5.   Denver, Colorado\n",
    "6.   Austin, Texas\n",
    "7.   Philadelphia, Pennsylvania\n",
    "8.   Nashville, Tennessee\n",
    "9.   Jacksonville, Florida\n",
    "\n",
    "The data gathered in this notebook is available at: https://www.epa.gov/outdoor-air-quality-data. The resulting data is saved as a DataFrame and exported as a CSV file titled _'aqs_data_raw.csv'_ and an Excel file titled _'aqs_data_raw.xlsx'_."
   ]
  },
  {
   "cell_type": "code",
   "execution_count": null,
   "id": "3bb63557",
   "metadata": {},
   "outputs": [],
   "source": [
    "import requests\n",
    "import json\n",
    "import pandas as pd\n",
    "import re\n",
    "import time\n",
    "from itertools import islice\n",
    "import math"
   ]
  },
  {
   "cell_type": "code",
   "execution_count": null,
   "id": "2bd659d5",
   "metadata": {},
   "outputs": [],
   "source": [
    "with open('../data/credentials.json') as file:\n",
    "    credentials = json.load(file)\n",
    "epa_key = credentials['epa_key']\n",
    "epa_email = credentials['epa_email']"
   ]
  },
  {
   "cell_type": "markdown",
   "id": "17785339",
   "metadata": {},
   "source": [
    "#### Declare the Static Variables"
   ]
  },
  {
   "cell_type": "code",
   "execution_count": null,
   "id": "b33d9d70",
   "metadata": {},
   "outputs": [],
   "source": [
    "# State Level FIPS Codes\n",
    "fips_wa = '53'\n",
    "fips_ca = '06'\n",
    "fips_az = '04'\n",
    "fips_mn = '27'\n",
    "fips_co = '08'\n",
    "fips_tx = '48'\n",
    "fips_pa = '42'\n",
    "fips_tn = '47'\n",
    "fips_fl = '12'\n",
    "\n",
    "# County Level FIPS Codes\n",
    "fips_king = '033'\n",
    "fips_sandiego = '073'\n",
    "fips_maricopa = '013'\n",
    "fips_hennepin = '053'\n",
    "fips_denver = '031'\n",
    "fips_travis = '453'\n",
    "fips_philadelphia = '101'\n",
    "fips_davidson = '037'\n",
    "fips_duval = '031'\n",
    "\n",
    "# Dictionary with states as keys and counties as values\n",
    "fips_dict = {fips_wa: fips_king,\n",
    "             fips_ca: fips_sandiego,\n",
    "             fips_az: fips_maricopa,\n",
    "             fips_mn: fips_hennepin,\n",
    "             fips_co: fips_denver,\n",
    "             fips_tx: fips_travis,\n",
    "             fips_pa: fips_philadelphia,\n",
    "             fips_tn: fips_davidson,\n",
    "             fips_fl: fips_duval}\n",
    "\n",
    "# Request Dates\n",
    "date_list = ['20170101', '20180101', '20190101', '20200101', '20210101']\n",
    "\n",
    "# API Endpoint\n",
    "endpoint = 'https://aqs.epa.gov/data/api/annualData/byCounty?'"
   ]
  },
  {
   "cell_type": "markdown",
   "id": "feb1196c",
   "metadata": {},
   "source": [
    "#### Obtain the AQS (Air Quality System) Parameter Codes\n",
    "- The AQI (Air Quality Index) is a nationally uniform color-coded index for reporting and forecasting daily air quality. It is used to report on the most common ambient air pollutants that are regulated under the Clean Air Act: **ground-level _ozone_, particle pollution (_PM10 and PM2.5_), _carbon monoxide (CO)_, _nitrogen dioxide (NO2)_, and _sulfur dioxide (SO2)_.** The AQI tells the public how clean or polluted the air is and how to avoid health effects associated with poor air quality.\n",
    "- The AQI focuses on health effects that may be experienced within a few hours or days after breathing polluted air and uses a normalized scale from 0 to 500; the higher the AQI value, the greater the level of pollution and the greater the health concern. An AQI value of 100 generally corresponds to the level of the short-term National Ambient Air Quality Standard for the pollutant. **AQI values at and below 100 are generally considered to be satisfactory. When AQI values are above 100, air quality is considered to be unhealthy, at first for members of populations at greatest risk of a health effect, then for the entire population as AQI values get higher (greater than 150).**"
   ]
  },
  {
   "cell_type": "markdown",
   "id": "cbb2ca06",
   "metadata": {},
   "source": [
    "### Filter the Parameter Codes"
   ]
  },
  {
   "cell_type": "code",
   "execution_count": null,
   "id": "c3129d48",
   "metadata": {
    "scrolled": true
   },
   "outputs": [],
   "source": [
    "param_df = pd.read_csv('../data/parameters.csv')\n",
    "param_df = param_df.rename(columns={'Parameter Code': 'code', \n",
    "                                          'Parameter': 'param',\n",
    "                                          'Parameter Abbreviation': 'abbr',\n",
    "                                          'Still Valid': 'valid',\n",
    "                                          'Standard Units':'std_units'})\n",
    "param_df = param_df[['code', 'param', 'abbr', 'valid', 'std_units']].sort_values(by='code').reset_index(drop=True)\n",
    "param_df['code'] = param_df.code.astype('string')"
   ]
  },
  {
   "cell_type": "markdown",
   "id": "9476a8cc",
   "metadata": {},
   "source": [
    "#### Obtain the Common Paramaters used in AQI Reports (excepting '88502', which is not used in NAAQS [National Ambient Air Quality Standards] decisions)"
   ]
  },
  {
   "cell_type": "code",
   "execution_count": null,
   "id": "c1268ecd",
   "metadata": {},
   "outputs": [],
   "source": [
    "aqi_bp = pd.read_csv('../data/aqi_breakpoints.csv')\n",
    "aqi_bp.columns = aqi_bp.columns.str.lower().str.replace(' ', '_')\n",
    "aqi_params = list(aqi_bp.parameter_code.astype('string').unique())\n",
    "aqi_params.remove('88502')"
   ]
  },
  {
   "cell_type": "code",
   "execution_count": null,
   "id": "c939c3d1",
   "metadata": {
    "scrolled": true
   },
   "outputs": [],
   "source": [
    "param_df = param_df.loc[(param_df.abbr.str.contains('SMKE|^CO2$|^NO$|^BZ$', regex=True, na=False, case=False) |\n",
    "                               param_df.code.isin(aqi_params))]\n",
    "\n",
    "param_df.sort_values(by='code', inplace=True)\n",
    "print('Number of parameters:', len(param_df))\n",
    "param_df"
   ]
  },
  {
   "cell_type": "code",
   "execution_count": null,
   "id": "2d3bfa4c",
   "metadata": {},
   "outputs": [],
   "source": [
    "# Create a list of lists, each inner list containing a maximum of 5 unique parameters\n",
    "param_codes = [c for c in param_df.code]\n",
    "num_lists = math.ceil(len(param_codes)/5.0)\n",
    "param_iter = iter(param_codes)\n",
    "param_lists = [list(islice(param_iter, 5)) for num in range(num_lists)]\n",
    "param_lists"
   ]
  },
  {
   "cell_type": "markdown",
   "id": "775df22d",
   "metadata": {},
   "source": [
    "#### Obtain the Air Quality Data (Limit of 5 Parameter Codes per Request)"
   ]
  },
  {
   "cell_type": "code",
   "execution_count": null,
   "id": "bfa0765a",
   "metadata": {
    "scrolled": false
   },
   "outputs": [],
   "source": [
    "aqs_df = pd.DataFrame()\n",
    "\n",
    "for date in date_list:\n",
    "    for state in fips_dict:\n",
    "        for p_list in param_lists:\n",
    "            request_params = ','.join(p_list)\n",
    "            params = {'email': epa_email,\n",
    "                      'key': epa_key,\n",
    "                      'param': request_params,\n",
    "                      'bdate': date,\n",
    "                      'edate': date,\n",
    "                      'state': state,\n",
    "                      'county': fips_dict[state]}\n",
    "\n",
    "            # Perform the request, waiting at least 5 seconds between requests\n",
    "            time.sleep(6)\n",
    "            response = requests.get(endpoint, params=params).json()\n",
    "            if (response['Header'][0]['status'] == 'Success') & ('Data' in response.keys()):\n",
    "                aqs_df = pd.concat([aqs_df, pd.DataFrame(response['Data'])], ignore_index=True)\n",
    "            else:\n",
    "                print('Issue with data retrieval; Reason:', response['Header'][0]['status'],\n",
    "                      '\\nDate:', date, '-- State:', state, '-- County:', fips_dict[state], '-- Params:', request_params, '\\n')\n",
    "\n",
    "aqs_df = aqs_df.sort_values(by=['parameter_code', 'state_code', 'county_code']).reset_index(drop=True)    "
   ]
  },
  {
   "cell_type": "code",
   "execution_count": null,
   "id": "09ea18ae",
   "metadata": {},
   "outputs": [],
   "source": [
    "aqs_df.shape"
   ]
  },
  {
   "cell_type": "code",
   "execution_count": null,
   "id": "d98fcd7f",
   "metadata": {},
   "outputs": [],
   "source": [
    "aqs_df.head()"
   ]
  },
  {
   "cell_type": "markdown",
   "id": "0feca973",
   "metadata": {},
   "source": [
    "#### Export the Data as an Excel and/or CSV"
   ]
  },
  {
   "cell_type": "code",
   "execution_count": null,
   "id": "c95025b8",
   "metadata": {},
   "outputs": [],
   "source": [
    "aqs_df.to_csv(r'../data/aqs_data_raw.csv', index=False)\n",
    "aqs_df.to_excel(r'../data/aqs_data_raw.xlsx', sheet_name='aqs_data_raw', index=False)"
   ]
  },
  {
   "cell_type": "code",
   "execution_count": null,
   "id": "24a55849",
   "metadata": {},
   "outputs": [],
   "source": []
  }
 ],
 "metadata": {
  "kernelspec": {
   "display_name": "Python 3 (ipykernel)",
   "language": "python",
   "name": "python3"
  },
  "language_info": {
   "codemirror_mode": {
    "name": "ipython",
    "version": 3
   },
   "file_extension": ".py",
   "mimetype": "text/x-python",
   "name": "python",
   "nbconvert_exporter": "python",
   "pygments_lexer": "ipython3",
   "version": "3.9.13"
  }
 },
 "nbformat": 4,
 "nbformat_minor": 5
}
