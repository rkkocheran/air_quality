{
 "cells": [
  {
   "cell_type": "code",
   "execution_count": 5,
   "id": "3bb63557",
   "metadata": {},
   "outputs": [],
   "source": [
    "import json"
   ]
  },
  {
   "cell_type": "code",
   "execution_count": 6,
   "id": "572b6d2d",
   "metadata": {},
   "outputs": [],
   "source": [
    "with open('../data/pollen-related asthama ER visits/datapackage.json') as myjson:\n",
    "    jsonObject = json.load(myjson)\n",
    "    myjson.close()\n",
    "\n",
    "file = jsonObject"
   ]
  },
  {
   "cell_type": "code",
   "execution_count": 7,
   "id": "a14d3701",
   "metadata": {},
   "outputs": [
    {
     "data": {
      "text/plain": [
       "{'name': 'us-epa-gov_fdfec2d0-16b6-4db0-9af4-20ca8d7da5ac',\n",
       " 'title': 'Estimates of Present and Future Asthma Emergency Departme...',\n",
       " 'description': \"Estimates of Present and Future Asthma Emergency Department Visits Associated With Exposure to Oak, Birch, and Grass ...\\n\\n*Original Title*: Estimates of Present and Future Asthma Emergency Department Visits Associated With Exposure to Oak, Birch, and Grass Pollen in the United States\\n\\n*Original Description*: Estimates of Present and Future Asthma Emergency Department Visits Associated With Exposure to Oak, Birch, and Grass Pollen in the United States\\n\\nWord file with supplemental figures and tables, including data behind figures in the paper. Citation information for this dataset can be found in the EDG's Metadata Reference Information section and Data.gov's References section.\\n\\nSource: https://catalog.data.gov/dataset/estimates-of-present-and-future-asthma-emergency-department-visits-associated-with-exposur  \\nLast updated at https://catalog.data.gov/organization/epa-gov : 2019-07-15  \\n[More about U.S. Government Works](https://www.usa.gov/government-works)\",\n",
       " 'homepage': 'https://data.world/us-epa-gov/fdfec2d0-16b6-4db0-9af4-20ca8d7da5ac',\n",
       " 'license': 'Public Domain',\n",
       " 'resources': [{'name': 'original/gh296-sup-0001-2018gh000153-si-docx-1.xml',\n",
       "   'path': 'original/gh296-sup-0001-2018gh000153-si-docx-1.xml',\n",
       "   'format': 'xml',\n",
       "   'mediatype': 'application/xml',\n",
       "   'bytes': 2861418},\n",
       "  {'name': 'original/resource_links.md',\n",
       "   'path': 'original/resource_links.md',\n",
       "   'format': 'md',\n",
       "   'mediatype': 'text/markdown',\n",
       "   'bytes': 159}],\n",
       " 'keywords': ['aeroallergens', 'asthma', 'pollen']}"
      ]
     },
     "execution_count": 7,
     "metadata": {},
     "output_type": "execute_result"
    }
   ],
   "source": [
    "file"
   ]
  },
  {
   "cell_type": "code",
   "execution_count": null,
   "id": "8fa96717",
   "metadata": {},
   "outputs": [],
   "source": []
  }
 ],
 "metadata": {
  "kernelspec": {
   "display_name": "Python 3 (ipykernel)",
   "language": "python",
   "name": "python3"
  },
  "language_info": {
   "codemirror_mode": {
    "name": "ipython",
    "version": 3
   },
   "file_extension": ".py",
   "mimetype": "text/x-python",
   "name": "python",
   "nbconvert_exporter": "python",
   "pygments_lexer": "ipython3",
   "version": "3.9.13"
  }
 },
 "nbformat": 4,
 "nbformat_minor": 5
}
